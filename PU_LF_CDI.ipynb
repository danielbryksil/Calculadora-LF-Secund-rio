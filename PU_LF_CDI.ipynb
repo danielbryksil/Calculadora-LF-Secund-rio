{
  "nbformat": 4,
  "nbformat_minor": 0,
  "metadata": {
    "colab": {
      "provenance": [],
      "authorship_tag": "ABX9TyNHPeXZSm3EbAxHNjiDDUmq",
      "include_colab_link": true
    },
    "kernelspec": {
      "name": "python3",
      "display_name": "Python 3"
    },
    "language_info": {
      "name": "python"
    }
  },
  "cells": [
    {
      "cell_type": "markdown",
      "metadata": {
        "id": "view-in-github",
        "colab_type": "text"
      },
      "source": [
        "<a href=\"https://colab.research.google.com/github/danielbryksil/Calculadora-LF-Secund-rio/blob/main/PU_LF_CDI.ipynb\" target=\"_parent\"><img src=\"https://colab.research.google.com/assets/colab-badge.svg\" alt=\"Open In Colab\"/></a>"
      ]
    },
    {
      "cell_type": "markdown",
      "source": [
        "## PU % CDI\n"
      ],
      "metadata": {
        "id": "DhWLLHGZdr9d"
      }
    },
    {
      "cell_type": "code",
      "source": [
        "!pip install python-bcb\n",
        "!pip install pandas_market_calendars"
      ],
      "metadata": {
        "colab": {
          "base_uri": "https://localhost:8080/"
        },
        "id": "oCo0kJHlBixi",
        "outputId": "852f8dc7-fee3-4efc-b636-4326b678ba6a"
      },
      "execution_count": null,
      "outputs": [
        {
          "output_type": "stream",
          "name": "stdout",
          "text": [
            "Collecting python-bcb\n",
            "  Downloading python_bcb-0.2.0-py3-none-any.whl (16 kB)\n",
            "Collecting httpx<0.25.0,>=0.24.0 (from python-bcb)\n",
            "  Downloading httpx-0.24.1-py3-none-any.whl (75 kB)\n",
            "\u001b[2K     \u001b[90m━━━━━━━━━━━━━━━━━━━━━━━━━━━━━━━━━━━━━━━━\u001b[0m \u001b[32m75.4/75.4 kB\u001b[0m \u001b[31m2.9 MB/s\u001b[0m eta \u001b[36m0:00:00\u001b[0m\n",
            "\u001b[?25hRequirement already satisfied: lxml<5.0.0,>=4.9.2 in /usr/local/lib/python3.10/dist-packages (from python-bcb) (4.9.4)\n",
            "Collecting pandas<3.0.0,>=2.0.0 (from python-bcb)\n",
            "  Downloading pandas-2.2.0-cp310-cp310-manylinux_2_17_x86_64.manylinux2014_x86_64.whl (13.0 MB)\n",
            "\u001b[2K     \u001b[90m━━━━━━━━━━━━━━━━━━━━━━━━━━━━━━━━━━━━━━━━\u001b[0m \u001b[32m13.0/13.0 MB\u001b[0m \u001b[31m79.0 MB/s\u001b[0m eta \u001b[36m0:00:00\u001b[0m\n",
            "\u001b[?25hRequirement already satisfied: requests<3.0.0,>=2.31.0 in /usr/local/lib/python3.10/dist-packages (from python-bcb) (2.31.0)\n",
            "Requirement already satisfied: certifi in /usr/local/lib/python3.10/dist-packages (from httpx<0.25.0,>=0.24.0->python-bcb) (2023.11.17)\n",
            "Collecting httpcore<0.18.0,>=0.15.0 (from httpx<0.25.0,>=0.24.0->python-bcb)\n",
            "  Downloading httpcore-0.17.3-py3-none-any.whl (74 kB)\n",
            "\u001b[2K     \u001b[90m━━━━━━━━━━━━━━━━━━━━━━━━━━━━━━━━━━━━━━━━\u001b[0m \u001b[32m74.5/74.5 kB\u001b[0m \u001b[31m9.5 MB/s\u001b[0m eta \u001b[36m0:00:00\u001b[0m\n",
            "\u001b[?25hRequirement already satisfied: idna in /usr/local/lib/python3.10/dist-packages (from httpx<0.25.0,>=0.24.0->python-bcb) (3.6)\n",
            "Requirement already satisfied: sniffio in /usr/local/lib/python3.10/dist-packages (from httpx<0.25.0,>=0.24.0->python-bcb) (1.3.0)\n",
            "Requirement already satisfied: numpy<2,>=1.22.4 in /usr/local/lib/python3.10/dist-packages (from pandas<3.0.0,>=2.0.0->python-bcb) (1.23.5)\n",
            "Requirement already satisfied: python-dateutil>=2.8.2 in /usr/local/lib/python3.10/dist-packages (from pandas<3.0.0,>=2.0.0->python-bcb) (2.8.2)\n",
            "Requirement already satisfied: pytz>=2020.1 in /usr/local/lib/python3.10/dist-packages (from pandas<3.0.0,>=2.0.0->python-bcb) (2023.4)\n",
            "Collecting tzdata>=2022.7 (from pandas<3.0.0,>=2.0.0->python-bcb)\n",
            "  Downloading tzdata-2023.4-py2.py3-none-any.whl (346 kB)\n",
            "\u001b[2K     \u001b[90m━━━━━━━━━━━━━━━━━━━━━━━━━━━━━━━━━━━━━━━━\u001b[0m \u001b[32m346.6/346.6 kB\u001b[0m \u001b[31m27.7 MB/s\u001b[0m eta \u001b[36m0:00:00\u001b[0m\n",
            "\u001b[?25hRequirement already satisfied: charset-normalizer<4,>=2 in /usr/local/lib/python3.10/dist-packages (from requests<3.0.0,>=2.31.0->python-bcb) (3.3.2)\n",
            "Requirement already satisfied: urllib3<3,>=1.21.1 in /usr/local/lib/python3.10/dist-packages (from requests<3.0.0,>=2.31.0->python-bcb) (2.0.7)\n",
            "Collecting h11<0.15,>=0.13 (from httpcore<0.18.0,>=0.15.0->httpx<0.25.0,>=0.24.0->python-bcb)\n",
            "  Downloading h11-0.14.0-py3-none-any.whl (58 kB)\n",
            "\u001b[2K     \u001b[90m━━━━━━━━━━━━━━━━━━━━━━━━━━━━━━━━━━━━━━━━\u001b[0m \u001b[32m58.3/58.3 kB\u001b[0m \u001b[31m4.9 MB/s\u001b[0m eta \u001b[36m0:00:00\u001b[0m\n",
            "\u001b[?25hRequirement already satisfied: anyio<5.0,>=3.0 in /usr/local/lib/python3.10/dist-packages (from httpcore<0.18.0,>=0.15.0->httpx<0.25.0,>=0.24.0->python-bcb) (3.7.1)\n",
            "Requirement already satisfied: six>=1.5 in /usr/local/lib/python3.10/dist-packages (from python-dateutil>=2.8.2->pandas<3.0.0,>=2.0.0->python-bcb) (1.16.0)\n",
            "Requirement already satisfied: exceptiongroup in /usr/local/lib/python3.10/dist-packages (from anyio<5.0,>=3.0->httpcore<0.18.0,>=0.15.0->httpx<0.25.0,>=0.24.0->python-bcb) (1.2.0)\n",
            "Installing collected packages: tzdata, h11, pandas, httpcore, httpx, python-bcb\n",
            "  Attempting uninstall: pandas\n",
            "    Found existing installation: pandas 1.5.3\n",
            "    Uninstalling pandas-1.5.3:\n",
            "      Successfully uninstalled pandas-1.5.3\n",
            "\u001b[31mERROR: pip's dependency resolver does not currently take into account all the packages that are installed. This behaviour is the source of the following dependency conflicts.\n",
            "lida 0.0.10 requires fastapi, which is not installed.\n",
            "lida 0.0.10 requires kaleido, which is not installed.\n",
            "lida 0.0.10 requires python-multipart, which is not installed.\n",
            "lida 0.0.10 requires uvicorn, which is not installed.\n",
            "bigframes 0.20.0 requires pandas<2.1.4,>=1.5.0, but you have pandas 2.2.0 which is incompatible.\n",
            "google-colab 1.0.0 requires pandas==1.5.3, but you have pandas 2.2.0 which is incompatible.\u001b[0m\u001b[31m\n",
            "\u001b[0mSuccessfully installed h11-0.14.0 httpcore-0.17.3 httpx-0.24.1 pandas-2.2.0 python-bcb-0.2.0 tzdata-2023.4\n",
            "Collecting pandas_market_calendars\n",
            "  Downloading pandas_market_calendars-4.3.3-py3-none-any.whl (107 kB)\n",
            "\u001b[2K     \u001b[90m━━━━━━━━━━━━━━━━━━━━━━━━━━━━━━━━━━━━━━━━\u001b[0m \u001b[32m107.0/107.0 kB\u001b[0m \u001b[31m2.7 MB/s\u001b[0m eta \u001b[36m0:00:00\u001b[0m\n",
            "\u001b[?25hCollecting pandas<2.0,>=1.1 (from pandas_market_calendars)\n",
            "  Downloading pandas-1.5.3-cp310-cp310-manylinux_2_17_x86_64.manylinux2014_x86_64.whl (12.1 MB)\n",
            "\u001b[2K     \u001b[90m━━━━━━━━━━━━━━━━━━━━━━━━━━━━━━━━━━━━━━━━\u001b[0m \u001b[32m12.1/12.1 MB\u001b[0m \u001b[31m27.2 MB/s\u001b[0m eta \u001b[36m0:00:00\u001b[0m\n",
            "\u001b[?25hRequirement already satisfied: pytz in /usr/local/lib/python3.10/dist-packages (from pandas_market_calendars) (2023.4)\n",
            "Requirement already satisfied: python-dateutil in /usr/local/lib/python3.10/dist-packages (from pandas_market_calendars) (2.8.2)\n",
            "Collecting exchange-calendars>=3.3 (from pandas_market_calendars)\n",
            "  Downloading exchange_calendars-4.5.2-py3-none-any.whl (191 kB)\n",
            "\u001b[2K     \u001b[90m━━━━━━━━━━━━━━━━━━━━━━━━━━━━━━━━━━━━━━━━\u001b[0m \u001b[32m191.4/191.4 kB\u001b[0m \u001b[31m20.6 MB/s\u001b[0m eta \u001b[36m0:00:00\u001b[0m\n",
            "\u001b[?25hRequirement already satisfied: numpy<2 in /usr/local/lib/python3.10/dist-packages (from exchange-calendars>=3.3->pandas_market_calendars) (1.23.5)\n",
            "Collecting pyluach (from exchange-calendars>=3.3->pandas_market_calendars)\n",
            "  Downloading pyluach-2.2.0-py3-none-any.whl (25 kB)\n",
            "Requirement already satisfied: toolz in /usr/local/lib/python3.10/dist-packages (from exchange-calendars>=3.3->pandas_market_calendars) (0.12.1)\n",
            "Requirement already satisfied: tzdata in /usr/local/lib/python3.10/dist-packages (from exchange-calendars>=3.3->pandas_market_calendars) (2023.4)\n",
            "Collecting korean-lunar-calendar (from exchange-calendars>=3.3->pandas_market_calendars)\n",
            "  Downloading korean_lunar_calendar-0.3.1-py3-none-any.whl (9.0 kB)\n",
            "Requirement already satisfied: six>=1.5 in /usr/local/lib/python3.10/dist-packages (from python-dateutil->pandas_market_calendars) (1.16.0)\n",
            "Installing collected packages: korean-lunar-calendar, pyluach, pandas, exchange-calendars, pandas_market_calendars\n",
            "  Attempting uninstall: pandas\n",
            "    Found existing installation: pandas 2.2.0\n",
            "    Uninstalling pandas-2.2.0:\n",
            "      Successfully uninstalled pandas-2.2.0\n",
            "\u001b[31mERROR: pip's dependency resolver does not currently take into account all the packages that are installed. This behaviour is the source of the following dependency conflicts.\n",
            "lida 0.0.10 requires fastapi, which is not installed.\n",
            "lida 0.0.10 requires kaleido, which is not installed.\n",
            "lida 0.0.10 requires python-multipart, which is not installed.\n",
            "lida 0.0.10 requires uvicorn, which is not installed.\n",
            "python-bcb 0.2.0 requires pandas<3.0.0,>=2.0.0, but you have pandas 1.5.3 which is incompatible.\u001b[0m\u001b[31m\n",
            "\u001b[0mSuccessfully installed exchange-calendars-4.5.2 korean-lunar-calendar-0.3.1 pandas-1.5.3 pandas_market_calendars-4.3.3 pyluach-2.2.0\n"
          ]
        }
      ]
    },
    {
      "cell_type": "code",
      "source": [
        "from datetime import datetime\n",
        "import pandas as pd\n",
        "from bcb import sgs\n",
        "import numpy as np\n",
        "from datetime import datetime, timedelta"
      ],
      "metadata": {
        "id": "YGHR8WvsbX5p"
      },
      "execution_count": null,
      "outputs": []
    },
    {
      "cell_type": "code",
      "source": [
        "data_operação = input(\"Qual a data da operação (aaaa-mm-dd)? \")"
      ],
      "metadata": {
        "colab": {
          "base_uri": "https://localhost:8080/"
        },
        "id": "gkvAgepKBgYo",
        "outputId": "61b6ae10-c469-49d2-fecf-2783e57a7690"
      },
      "execution_count": null,
      "outputs": [
        {
          "name": "stdout",
          "output_type": "stream",
          "text": [
            "Qual a data da operação (aaaa-mm-dd)? 2024-02-05\n"
          ]
        }
      ]
    },
    {
      "cell_type": "code",
      "source": [
        "data_str = data_operação\n",
        "\n",
        "# Converta a string para um objeto datetime\n",
        "data = datetime.strptime(data_str, '%Y-%m-%d')\n",
        "\n",
        "# Subtraia um dia usando timedelta\n",
        "data_menos_um_dia = data - timedelta(days=1)\n",
        "\n",
        "# Converta o resultado de volta para o formato desejado\n",
        "data_menos_um_dia_operação = data_menos_um_dia.strftime('%Y-%m-%d')\n",
        "data_menos_um_dia_operação"
      ],
      "metadata": {
        "colab": {
          "base_uri": "https://localhost:8080/",
          "height": 35
        },
        "id": "NCWVbYxGD2j1",
        "outputId": "bf562f90-fe97-41a6-8394-510e931badb1"
      },
      "execution_count": null,
      "outputs": [
        {
          "output_type": "execute_result",
          "data": {
            "text/plain": [
              "'2024-02-04'"
            ],
            "application/vnd.google.colaboratory.intrinsic+json": {
              "type": "string"
            }
          },
          "metadata": {},
          "execution_count": 5
        }
      ]
    },
    {
      "cell_type": "code",
      "source": [
        "data_emissão = input(\"Qual a data da emissão (aaaa-mm-dd)? \")"
      ],
      "metadata": {
        "colab": {
          "base_uri": "https://localhost:8080/"
        },
        "id": "0zL2qw1KBgWV",
        "outputId": "97edbf26-7655-4707-edb3-d6ae69494077"
      },
      "execution_count": null,
      "outputs": [
        {
          "name": "stdout",
          "output_type": "stream",
          "text": [
            "Qual a data da emissão (aaaa-mm-dd)? 2020-04-15\n"
          ]
        }
      ]
    },
    {
      "cell_type": "code",
      "source": [
        "data_vencimento = input(\"Qual a data da vencimento (aaaa-mm-dd)? \")"
      ],
      "metadata": {
        "colab": {
          "base_uri": "https://localhost:8080/"
        },
        "id": "V5q0H6T7BgTb",
        "outputId": "87613300-672d-4741-c257-1326bf5be55a"
      },
      "execution_count": null,
      "outputs": [
        {
          "name": "stdout",
          "output_type": "stream",
          "text": [
            "Qual a data da vencimento (aaaa-mm-dd)? 2027-04-15\n"
          ]
        }
      ]
    },
    {
      "cell_type": "code",
      "source": [
        "PU_inicial = float(input(\"Qual o PU inicial? \"))"
      ],
      "metadata": {
        "colab": {
          "base_uri": "https://localhost:8080/"
        },
        "id": "SZdO6wMsBgQk",
        "outputId": "189b2e85-4333-4eb1-8864-2fe49b4191bd"
      },
      "execution_count": null,
      "outputs": [
        {
          "name": "stdout",
          "output_type": "stream",
          "text": [
            "Qual o PU inicial? 500000\n"
          ]
        }
      ]
    },
    {
      "cell_type": "code",
      "source": [
        "taxa_emissão = float(input(\"Qual a taxa de emissão?\"))\n",
        "\n",
        "taxa_emissão = taxa_emissão/100"
      ],
      "metadata": {
        "colab": {
          "base_uri": "https://localhost:8080/"
        },
        "id": "a3F8YDjiBgOA",
        "outputId": "81abc68b-ae14-4b85-c3dd-a2dd14997416"
      },
      "execution_count": null,
      "outputs": [
        {
          "name": "stdout",
          "output_type": "stream",
          "text": [
            "Qual a taxa de emissão?119\n"
          ]
        }
      ]
    },
    {
      "cell_type": "code",
      "source": [
        "tx_neg = float(input(\"Qual a taxa de negociação?\"))\n",
        "tx_neg = tx_neg /100"
      ],
      "metadata": {
        "colab": {
          "base_uri": "https://localhost:8080/"
        },
        "id": "UQG164tvL1la",
        "outputId": "6a120efd-3154-43d1-d13d-559b6af11221"
      },
      "execution_count": null,
      "outputs": [
        {
          "name": "stdout",
          "output_type": "stream",
          "text": [
            "Qual a taxa de negociação?107\n"
          ]
        }
      ]
    },
    {
      "cell_type": "code",
      "source": [
        "data1 = datetime.strptime(data_vencimento, '%Y-%m-%d')\n",
        "data2 = datetime.strptime(data_operação, '%Y-%m-%d')\n",
        "dias_venc = ((data1 - data2).days)-1\n",
        "dias_venc"
      ],
      "metadata": {
        "colab": {
          "base_uri": "https://localhost:8080/"
        },
        "id": "JfLI9X2F63yi",
        "outputId": "80760924-66bf-49eb-b2e7-a3e91f65255d"
      },
      "execution_count": null,
      "outputs": [
        {
          "output_type": "execute_result",
          "data": {
            "text/plain": [
              "1164"
            ]
          },
          "metadata": {},
          "execution_count": 11
        }
      ]
    },
    {
      "cell_type": "code",
      "source": [
        "data_cdi = sgs.get(('CDI', 12), last=3000)\n",
        "data_cdi = data_cdi['CDI']\n",
        "data_cdi"
      ],
      "metadata": {
        "colab": {
          "base_uri": "https://localhost:8080/"
        },
        "id": "Onop2f-lznEn",
        "outputId": "13dcfeb3-5eb9-4df9-8d31-7e045fd83a92"
      },
      "execution_count": null,
      "outputs": [
        {
          "output_type": "execute_result",
          "data": {
            "text/plain": [
              "Date\n",
              "2012-02-23    0.038874\n",
              "2012-02-24    0.038946\n",
              "2012-02-27    0.038946\n",
              "2012-02-28    0.038838\n",
              "2012-02-29    0.038802\n",
              "                ...   \n",
              "2024-01-29    0.043739\n",
              "2024-01-30    0.043739\n",
              "2024-01-31    0.043739\n",
              "2024-02-01    0.041957\n",
              "2024-02-02    0.041957\n",
              "Name: CDI, Length: 3000, dtype: float64"
            ]
          },
          "metadata": {},
          "execution_count": 12
        }
      ]
    },
    {
      "cell_type": "code",
      "source": [
        "data_filt = data_cdi.loc[data_emissão:data_menos_um_dia_operação]\n",
        "data_filt"
      ],
      "metadata": {
        "colab": {
          "base_uri": "https://localhost:8080/"
        },
        "id": "siiFeOEB8XyO",
        "outputId": "5421873e-3c64-4e4d-8b2b-c539da4a7bb4"
      },
      "execution_count": null,
      "outputs": [
        {
          "output_type": "execute_result",
          "data": {
            "text/plain": [
              "Date\n",
              "2020-04-15    0.014227\n",
              "2020-04-16    0.014227\n",
              "2020-04-17    0.014227\n",
              "2020-04-20    0.014227\n",
              "2020-04-22    0.014227\n",
              "                ...   \n",
              "2024-01-29    0.043739\n",
              "2024-01-30    0.043739\n",
              "2024-01-31    0.043739\n",
              "2024-02-01    0.041957\n",
              "2024-02-02    0.041957\n",
              "Name: CDI, Length: 955, dtype: float64"
            ]
          },
          "metadata": {},
          "execution_count": 13
        }
      ]
    },
    {
      "cell_type": "code",
      "source": [
        "import pandas as pd\n",
        "import requests\n",
        "\n",
        "# URL da página\n",
        "url = 'https://www2.bmf.com.br/pages/portal/bmfbovespa/boletim1/TxRef1.asp'\n",
        "\n",
        "# Realiza a solicitação HTTP\n",
        "response = requests.get(url)\n",
        "\n",
        "# Verifica se a solicitação foi bem-sucedida (código de status 200)\n",
        "if response.status_code == 200:\n",
        "    # Lê a tabela HTML diretamente usando o pandas\n",
        "    dfs = pd.read_html(response.text, flavor='bs4')  # 'bs4' indica o uso do BeautifulSoup para análise HTML\n",
        "\n",
        "    # O resultado será uma lista de DataFrames, onde cada DataFrame representa uma tabela na página\n",
        "    # Dependendo da página, você pode precisar procurar qual DataFrame contém os dados desejados\n",
        "    for i, df in enumerate(dfs):\n",
        "        print(f\"DataFrame {i + 1}:\\n{df}\")\n",
        "else:\n",
        "    print(f\"Falha na solicitação. Código de status: {response.status_code}\")"
      ],
      "metadata": {
        "colab": {
          "base_uri": "https://localhost:8080/"
        },
        "id": "Pi582wEg8f-b",
        "outputId": "1dee08a9-ce87-4d9a-9020-95ca3c996311"
      },
      "execution_count": null,
      "outputs": [
        {
          "output_type": "stream",
          "name": "stdout",
          "text": [
            "DataFrame 1:\n",
            "                                                   0            1\n",
            "0                          Atualizado em: 02/02/2024  Retroativo:\n",
            "1  Taxa: Ajuste cupom  Alumínio  DI x Anbid  Anbi...          NaN\n",
            "DataFrame 2:\n",
            "                                                     0          1         2\n",
            "0    Dias Corridos DI x pré 252(2)(4) 360(1) 3 11,1...        NaN       NaN\n",
            "1                                        Dias Corridos   DI x pré  DI x pré\n",
            "2                                        Dias Corridos  252(2)(4)    360(1)\n",
            "3                                                    3       1115       000\n",
            "4                                                    7       1116      1140\n",
            "..                                                 ...        ...       ...\n",
            "255                                               9510       1071      1048\n",
            "256                                               9691       1071      1048\n",
            "257                                              10800       1071      1048\n",
            "258                                              11427       1071      1047\n",
            "259                                              13345       1071      1048\n",
            "\n",
            "[260 rows x 3 columns]\n",
            "DataFrame 3:\n",
            "                 0          1         2\n",
            "0    Dias Corridos   DI x pré  DI x pré\n",
            "1    Dias Corridos  252(2)(4)    360(1)\n",
            "2                3       1115       000\n",
            "3                7       1116      1140\n",
            "4               12       1116       785\n",
            "..             ...        ...       ...\n",
            "254           9510       1071      1048\n",
            "255           9691       1071      1048\n",
            "256          10800       1071      1048\n",
            "257          11427       1071      1047\n",
            "258          13345       1071      1048\n",
            "\n",
            "[259 rows x 3 columns]\n",
            "DataFrame 4:\n",
            "                                                   0\n",
            "0  (1) Taxa efetiva para 360 dias corridos. (2) T...\n"
          ]
        }
      ]
    },
    {
      "cell_type": "code",
      "source": [
        "di_tabela = dfs[2]\n",
        "di_tabela = di_tabela.set_index(0)\n",
        "di_tabela = di_tabela.iloc[2:]\n",
        "di_tabela = di_tabela[1]\n",
        "di_tabela = di_tabela.astype(float)\n",
        "di_tabela.index = di_tabela.index.astype(int)\n",
        "di_tabela = di_tabela/100\n",
        "di_tabela"
      ],
      "metadata": {
        "colab": {
          "base_uri": "https://localhost:8080/"
        },
        "id": "AsP8KrME8f7c",
        "outputId": "05212188-5ebe-4972-d9b4-28f8f1ba0577"
      },
      "execution_count": null,
      "outputs": [
        {
          "output_type": "execute_result",
          "data": {
            "text/plain": [
              "0\n",
              "3        11.15\n",
              "7        11.16\n",
              "12       11.16\n",
              "13       11.16\n",
              "14       11.16\n",
              "         ...  \n",
              "9510     10.71\n",
              "9691     10.71\n",
              "10800    10.71\n",
              "11427    10.71\n",
              "13345    10.71\n",
              "Name: 1, Length: 257, dtype: float64"
            ]
          },
          "metadata": {},
          "execution_count": 15
        }
      ]
    },
    {
      "cell_type": "code",
      "source": [
        "indice_mais_proximo = (di_tabela.index.to_series() - dias_venc).abs().idxmin()\n",
        "tx_di = di_tabela.loc[indice_mais_proximo]\n",
        "tx_di = tx_di/100\n",
        "tx_di"
      ],
      "metadata": {
        "colab": {
          "base_uri": "https://localhost:8080/"
        },
        "id": "BzpsjsSv8f4j",
        "outputId": "693a619d-a280-4677-afa5-ca3dcaf6c908"
      },
      "execution_count": null,
      "outputs": [
        {
          "output_type": "execute_result",
          "data": {
            "text/plain": [
              "0.0993"
            ]
          },
          "metadata": {},
          "execution_count": 31
        }
      ]
    },
    {
      "cell_type": "code",
      "source": [
        "di = (data_filt/100 * taxa_emissão)+1\n",
        "di_per = di.product()\n",
        "di_per"
      ],
      "metadata": {
        "colab": {
          "base_uri": "https://localhost:8080/"
        },
        "id": "OJtoLo9-EQVe",
        "outputId": "d79f14db-ff16-4b1c-ef11-f4dc885d9a32"
      },
      "execution_count": null,
      "outputs": [
        {
          "output_type": "execute_result",
          "data": {
            "text/plain": [
              "1.4443664310920368"
            ]
          },
          "metadata": {},
          "execution_count": 32
        }
      ]
    },
    {
      "cell_type": "code",
      "source": [
        "pu_par = di_per*PU_inicial\n",
        "pu_par"
      ],
      "metadata": {
        "colab": {
          "base_uri": "https://localhost:8080/"
        },
        "id": "uJDsPoK8ca73",
        "outputId": "92359a75-9531-4a09-d132-8b4acb2bc399"
      },
      "execution_count": null,
      "outputs": [
        {
          "output_type": "execute_result",
          "data": {
            "text/plain": [
              "722183.2155460184"
            ]
          },
          "metadata": {},
          "execution_count": 33
        }
      ]
    },
    {
      "cell_type": "code",
      "source": [
        "dados_excel = pd.read_excel('/content/feriados.xlsx')\n",
        "feriados = dados_excel['2001-01-01'].tolist()\n",
        "datas = pd.date_range(start=data_emissão, end=data_operação, freq='B')\n",
        "dias_uteis = datas[~datas.isin(feriados)]\n",
        "num_dias_uteis = len(dias_uteis)-1\n",
        "num_dias_uteis"
      ],
      "metadata": {
        "colab": {
          "base_uri": "https://localhost:8080/"
        },
        "id": "0dt2FznCf7uY",
        "outputId": "2d9de7be-6399-498f-b268-d8ea52bba019"
      },
      "execution_count": null,
      "outputs": [
        {
          "output_type": "execute_result",
          "data": {
            "text/plain": [
              "955"
            ]
          },
          "metadata": {},
          "execution_count": 34
        }
      ]
    },
    {
      "cell_type": "code",
      "source": [
        "datas = pd.date_range(start=data_operação, end=data_vencimento, freq='B')\n",
        "dias_uteis = datas[~datas.isin(feriados)]\n",
        "num_dias_uteis_2 = len(dias_uteis)-1\n",
        "num_dias_uteis_2"
      ],
      "metadata": {
        "colab": {
          "base_uri": "https://localhost:8080/"
        },
        "id": "sGYy-PmcFUDP",
        "outputId": "cc00e046-8074-4236-d9f9-028621e2fc52"
      },
      "execution_count": null,
      "outputs": [
        {
          "output_type": "execute_result",
          "data": {
            "text/plain": [
              "803"
            ]
          },
          "metadata": {},
          "execution_count": 35
        }
      ]
    },
    {
      "cell_type": "code",
      "source": [
        "di_int_acum =((((1+tx_di)**(1/252)-1)*taxa_emissão)+1)**(252)-1\n",
        "round(di_int_acum*100,2)"
      ],
      "metadata": {
        "colab": {
          "base_uri": "https://localhost:8080/"
        },
        "id": "If2Ay38NHwkz",
        "outputId": "ad7b15c5-9269-4cbc-819b-9cecbdd0025c"
      },
      "execution_count": null,
      "outputs": [
        {
          "output_type": "execute_result",
          "data": {
            "text/plain": [
              "11.92"
            ]
          },
          "metadata": {},
          "execution_count": 36
        }
      ]
    },
    {
      "cell_type": "code",
      "source": [
        "di_int_acum_2 = +(1+di_int_acum)**(num_dias_uteis_2/252)-1\n",
        "round(di_int_acum_2*100,2)"
      ],
      "metadata": {
        "colab": {
          "base_uri": "https://localhost:8080/"
        },
        "id": "OkaxhAMdHyLp",
        "outputId": "2d95acb6-e025-4780-e5a8-f85488ab6696"
      },
      "execution_count": null,
      "outputs": [
        {
          "output_type": "execute_result",
          "data": {
            "text/plain": [
              "43.19"
            ]
          },
          "metadata": {},
          "execution_count": 37
        }
      ]
    },
    {
      "cell_type": "code",
      "source": [
        "neg_di_acum=((((1+tx_di)**(1/252)-1)*tx_neg)+1)**(252)-1\n",
        "round(neg_di_acum*100,2)"
      ],
      "metadata": {
        "colab": {
          "base_uri": "https://localhost:8080/"
        },
        "id": "tyQCBbL1HyJh",
        "outputId": "6e68b16d-973e-4eb4-a44a-cc31a2302850"
      },
      "execution_count": null,
      "outputs": [
        {
          "output_type": "execute_result",
          "data": {
            "text/plain": [
              "10.66"
            ]
          },
          "metadata": {},
          "execution_count": 38
        }
      ]
    },
    {
      "cell_type": "code",
      "source": [
        "neg_di_acum_2 =+(1+neg_di_acum)**(num_dias_uteis_2/252)-1\n",
        "round(neg_di_acum_2*100,2)"
      ],
      "metadata": {
        "colab": {
          "base_uri": "https://localhost:8080/"
        },
        "id": "rIYKSmn3HyG8",
        "outputId": "b5ab88fd-bd59-4bd6-bf46-186e0e1d4daa"
      },
      "execution_count": null,
      "outputs": [
        {
          "output_type": "execute_result",
          "data": {
            "text/plain": [
              "38.1"
            ]
          },
          "metadata": {},
          "execution_count": 39
        }
      ]
    },
    {
      "cell_type": "code",
      "source": [
        "vf = (di_int_acum_2 + 1)*pu_par\n",
        "vf"
      ],
      "metadata": {
        "colab": {
          "base_uri": "https://localhost:8080/"
        },
        "id": "bb5pGPpZHyES",
        "outputId": "37c2f77c-9cd0-4a88-b0d8-e7fab586406c"
      },
      "execution_count": null,
      "outputs": [
        {
          "output_type": "execute_result",
          "data": {
            "text/plain": [
              "1034075.5730233219"
            ]
          },
          "metadata": {},
          "execution_count": 40
        }
      ]
    },
    {
      "cell_type": "code",
      "source": [
        "pu_final = vf / (1+neg_di_acum_2)\n",
        "pu_final"
      ],
      "metadata": {
        "colab": {
          "base_uri": "https://localhost:8080/"
        },
        "id": "cg0CHamzHwig",
        "outputId": "87a1e684-b50f-44ed-8509-7fab0649df74"
      },
      "execution_count": null,
      "outputs": [
        {
          "output_type": "execute_result",
          "data": {
            "text/plain": [
              "748799.8221856084"
            ]
          },
          "metadata": {},
          "execution_count": 41
        }
      ]
    },
    {
      "cell_type": "code",
      "source": [
        "quantidade = float(input('qual a quantidade?'))"
      ],
      "metadata": {
        "colab": {
          "base_uri": "https://localhost:8080/"
        },
        "id": "barzwocIKJjl",
        "outputId": "bd068a30-78ce-4654-8607-969c17194d89"
      },
      "execution_count": null,
      "outputs": [
        {
          "name": "stdout",
          "output_type": "stream",
          "text": [
            "qual a quantidade?10\n"
          ]
        }
      ]
    },
    {
      "cell_type": "code",
      "source": [
        "financeiro = round(pu_final*quantidade,2)\n",
        "financeiro"
      ],
      "metadata": {
        "colab": {
          "base_uri": "https://localhost:8080/"
        },
        "id": "8SDyAd-gG7v6",
        "outputId": "57f13b94-f7f6-4f6f-e959-800ead5626cd"
      },
      "execution_count": null,
      "outputs": [
        {
          "output_type": "execute_result",
          "data": {
            "text/plain": [
              "7487998.22"
            ]
          },
          "metadata": {},
          "execution_count": 43
        }
      ]
    },
    {
      "cell_type": "code",
      "source": [
        "import locale\n",
        "\n",
        "# Configuração da localidade para o formato financeiro\n",
        "locale.setlocale(locale.LC_ALL, '')\n",
        "\n",
        "# Valor em formato numpy.float64\n",
        "valor_float64 = np.float64(financeiro)\n",
        "\n",
        "# Converte para uma string no formato financeiro\n",
        "valor_formatado = locale.currency(valor_float64, grouping=True)\n",
        "\n",
        "valor_formatado"
      ],
      "metadata": {
        "colab": {
          "base_uri": "https://localhost:8080/",
          "height": 35
        },
        "id": "Xk3UgXghJnmz",
        "outputId": "07e7bf20-c6c0-4721-e1b5-bb50180f6ec0"
      },
      "execution_count": null,
      "outputs": [
        {
          "output_type": "execute_result",
          "data": {
            "text/plain": [
              "'$7,487,998.22'"
            ],
            "application/vnd.google.colaboratory.intrinsic+json": {
              "type": "string"
            }
          },
          "metadata": {},
          "execution_count": 44
        }
      ]
    }
  ]
}