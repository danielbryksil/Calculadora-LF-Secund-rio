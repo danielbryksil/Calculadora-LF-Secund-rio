{
  "nbformat": 4,
  "nbformat_minor": 0,
  "metadata": {
    "colab": {
      "provenance": [],
      "authorship_tag": "ABX9TyMdSMHRTtqSaDj7yEPCZeTR",
      "include_colab_link": true
    },
    "kernelspec": {
      "name": "python3",
      "display_name": "Python 3"
    },
    "language_info": {
      "name": "python"
    }
  },
  "cells": [
    {
      "cell_type": "markdown",
      "metadata": {
        "id": "view-in-github",
        "colab_type": "text"
      },
      "source": [
        "<a href=\"https://colab.research.google.com/github/danielbryksil/Calculadora-LF-Secund-rio/blob/main/PU_LF_CDI_%2B.ipynb\" target=\"_parent\"><img src=\"https://colab.research.google.com/assets/colab-badge.svg\" alt=\"Open In Colab\"/></a>"
      ]
    },
    {
      "cell_type": "markdown",
      "source": [
        "## PU CDI +\n"
      ],
      "metadata": {
        "id": "DhWLLHGZdr9d"
      }
    },
    {
      "cell_type": "code",
      "source": [
        "!pip install python-bcb\n",
        "!pip install pandas_market_calendars"
      ],
      "metadata": {
        "colab": {
          "base_uri": "https://localhost:8080/"
        },
        "id": "oCo0kJHlBixi",
        "outputId": "5faf050d-042a-4038-92f7-7c6b6e97ef6e"
      },
      "execution_count": null,
      "outputs": [
        {
          "output_type": "stream",
          "name": "stdout",
          "text": [
            "Collecting python-bcb\n",
            "  Downloading python_bcb-0.2.0-py3-none-any.whl (16 kB)\n",
            "Collecting httpx<0.25.0,>=0.24.0 (from python-bcb)\n",
            "  Downloading httpx-0.24.1-py3-none-any.whl (75 kB)\n",
            "\u001b[?25l     \u001b[90m━━━━━━━━━━━━━━━━━━━━━━━━━━━━━━━━━━━━━━━━\u001b[0m \u001b[32m0.0/75.4 kB\u001b[0m \u001b[31m?\u001b[0m eta \u001b[36m-:--:--\u001b[0m\r\u001b[2K     \u001b[90m━━━━━━━━━━━━━━━━━━━━━━━━━━━━━━━━━━━━━━━━\u001b[0m \u001b[32m75.4/75.4 kB\u001b[0m \u001b[31m2.7 MB/s\u001b[0m eta \u001b[36m0:00:00\u001b[0m\n",
            "\u001b[?25hRequirement already satisfied: lxml<5.0.0,>=4.9.2 in /usr/local/lib/python3.10/dist-packages (from python-bcb) (4.9.4)\n",
            "Collecting pandas<3.0.0,>=2.0.0 (from python-bcb)\n",
            "  Downloading pandas-2.2.1-cp310-cp310-manylinux_2_17_x86_64.manylinux2014_x86_64.whl (13.0 MB)\n",
            "\u001b[2K     \u001b[90m━━━━━━━━━━━━━━━━━━━━━━━━━━━━━━━━━━━━━━━━\u001b[0m \u001b[32m13.0/13.0 MB\u001b[0m \u001b[31m25.2 MB/s\u001b[0m eta \u001b[36m0:00:00\u001b[0m\n",
            "\u001b[?25hRequirement already satisfied: requests<3.0.0,>=2.31.0 in /usr/local/lib/python3.10/dist-packages (from python-bcb) (2.31.0)\n",
            "Requirement already satisfied: certifi in /usr/local/lib/python3.10/dist-packages (from httpx<0.25.0,>=0.24.0->python-bcb) (2024.2.2)\n",
            "Collecting httpcore<0.18.0,>=0.15.0 (from httpx<0.25.0,>=0.24.0->python-bcb)\n",
            "  Downloading httpcore-0.17.3-py3-none-any.whl (74 kB)\n",
            "\u001b[2K     \u001b[90m━━━━━━━━━━━━━━━━━━━━━━━━━━━━━━━━━━━━━━━━\u001b[0m \u001b[32m74.5/74.5 kB\u001b[0m \u001b[31m9.6 MB/s\u001b[0m eta \u001b[36m0:00:00\u001b[0m\n",
            "\u001b[?25hRequirement already satisfied: idna in /usr/local/lib/python3.10/dist-packages (from httpx<0.25.0,>=0.24.0->python-bcb) (3.6)\n",
            "Requirement already satisfied: sniffio in /usr/local/lib/python3.10/dist-packages (from httpx<0.25.0,>=0.24.0->python-bcb) (1.3.0)\n",
            "Requirement already satisfied: numpy<2,>=1.22.4 in /usr/local/lib/python3.10/dist-packages (from pandas<3.0.0,>=2.0.0->python-bcb) (1.25.2)\n",
            "Requirement already satisfied: python-dateutil>=2.8.2 in /usr/local/lib/python3.10/dist-packages (from pandas<3.0.0,>=2.0.0->python-bcb) (2.8.2)\n",
            "Requirement already satisfied: pytz>=2020.1 in /usr/local/lib/python3.10/dist-packages (from pandas<3.0.0,>=2.0.0->python-bcb) (2023.4)\n",
            "Collecting tzdata>=2022.7 (from pandas<3.0.0,>=2.0.0->python-bcb)\n",
            "  Downloading tzdata-2024.1-py2.py3-none-any.whl (345 kB)\n",
            "\u001b[2K     \u001b[90m━━━━━━━━━━━━━━━━━━━━━━━━━━━━━━━━━━━━━━━━\u001b[0m \u001b[32m345.4/345.4 kB\u001b[0m \u001b[31m31.7 MB/s\u001b[0m eta \u001b[36m0:00:00\u001b[0m\n",
            "\u001b[?25hRequirement already satisfied: charset-normalizer<4,>=2 in /usr/local/lib/python3.10/dist-packages (from requests<3.0.0,>=2.31.0->python-bcb) (3.3.2)\n",
            "Requirement already satisfied: urllib3<3,>=1.21.1 in /usr/local/lib/python3.10/dist-packages (from requests<3.0.0,>=2.31.0->python-bcb) (2.0.7)\n",
            "Collecting h11<0.15,>=0.13 (from httpcore<0.18.0,>=0.15.0->httpx<0.25.0,>=0.24.0->python-bcb)\n",
            "  Downloading h11-0.14.0-py3-none-any.whl (58 kB)\n",
            "\u001b[2K     \u001b[90m━━━━━━━━━━━━━━━━━━━━━━━━━━━━━━━━━━━━━━━━\u001b[0m \u001b[32m58.3/58.3 kB\u001b[0m \u001b[31m6.7 MB/s\u001b[0m eta \u001b[36m0:00:00\u001b[0m\n",
            "\u001b[?25hRequirement already satisfied: anyio<5.0,>=3.0 in /usr/local/lib/python3.10/dist-packages (from httpcore<0.18.0,>=0.15.0->httpx<0.25.0,>=0.24.0->python-bcb) (3.7.1)\n",
            "Requirement already satisfied: six>=1.5 in /usr/local/lib/python3.10/dist-packages (from python-dateutil>=2.8.2->pandas<3.0.0,>=2.0.0->python-bcb) (1.16.0)\n",
            "Requirement already satisfied: exceptiongroup in /usr/local/lib/python3.10/dist-packages (from anyio<5.0,>=3.0->httpcore<0.18.0,>=0.15.0->httpx<0.25.0,>=0.24.0->python-bcb) (1.2.0)\n",
            "Installing collected packages: tzdata, h11, pandas, httpcore, httpx, python-bcb\n",
            "  Attempting uninstall: pandas\n",
            "    Found existing installation: pandas 1.5.3\n",
            "    Uninstalling pandas-1.5.3:\n",
            "      Successfully uninstalled pandas-1.5.3\n",
            "\u001b[31mERROR: pip's dependency resolver does not currently take into account all the packages that are installed. This behaviour is the source of the following dependency conflicts.\n",
            "bigframes 0.21.0 requires pandas<2.1.4,>=1.5.0, but you have pandas 2.2.1 which is incompatible.\n",
            "google-colab 1.0.0 requires pandas==1.5.3, but you have pandas 2.2.1 which is incompatible.\u001b[0m\u001b[31m\n",
            "\u001b[0mSuccessfully installed h11-0.14.0 httpcore-0.17.3 httpx-0.24.1 pandas-2.2.1 python-bcb-0.2.0 tzdata-2024.1\n",
            "Collecting pandas_market_calendars\n",
            "  Downloading pandas_market_calendars-4.4.0-py3-none-any.whl (106 kB)\n",
            "\u001b[2K     \u001b[90m━━━━━━━━━━━━━━━━━━━━━━━━━━━━━━━━━━━━━━━━\u001b[0m \u001b[32m106.6/106.6 kB\u001b[0m \u001b[31m2.7 MB/s\u001b[0m eta \u001b[36m0:00:00\u001b[0m\n",
            "\u001b[?25hRequirement already satisfied: pandas>=1.1 in /usr/local/lib/python3.10/dist-packages (from pandas_market_calendars) (2.2.1)\n",
            "Requirement already satisfied: pytz in /usr/local/lib/python3.10/dist-packages (from pandas_market_calendars) (2023.4)\n",
            "Requirement already satisfied: python-dateutil in /usr/local/lib/python3.10/dist-packages (from pandas_market_calendars) (2.8.2)\n",
            "Collecting exchange-calendars>=3.3 (from pandas_market_calendars)\n",
            "  Downloading exchange_calendars-4.5.3-py3-none-any.whl (191 kB)\n",
            "\u001b[2K     \u001b[90m━━━━━━━━━━━━━━━━━━━━━━━━━━━━━━━━━━━━━━━━\u001b[0m \u001b[32m191.7/191.7 kB\u001b[0m \u001b[31m8.9 MB/s\u001b[0m eta \u001b[36m0:00:00\u001b[0m\n",
            "\u001b[?25hRequirement already satisfied: numpy<2 in /usr/local/lib/python3.10/dist-packages (from exchange-calendars>=3.3->pandas_market_calendars) (1.25.2)\n",
            "Collecting pyluach (from exchange-calendars>=3.3->pandas_market_calendars)\n",
            "  Downloading pyluach-2.2.0-py3-none-any.whl (25 kB)\n",
            "Requirement already satisfied: toolz in /usr/local/lib/python3.10/dist-packages (from exchange-calendars>=3.3->pandas_market_calendars) (0.12.1)\n",
            "Requirement already satisfied: tzdata in /usr/local/lib/python3.10/dist-packages (from exchange-calendars>=3.3->pandas_market_calendars) (2024.1)\n",
            "Collecting korean-lunar-calendar (from exchange-calendars>=3.3->pandas_market_calendars)\n",
            "  Downloading korean_lunar_calendar-0.3.1-py3-none-any.whl (9.0 kB)\n",
            "Requirement already satisfied: six>=1.5 in /usr/local/lib/python3.10/dist-packages (from python-dateutil->pandas_market_calendars) (1.16.0)\n",
            "Installing collected packages: korean-lunar-calendar, pyluach, exchange-calendars, pandas_market_calendars\n",
            "Successfully installed exchange-calendars-4.5.3 korean-lunar-calendar-0.3.1 pandas_market_calendars-4.4.0 pyluach-2.2.0\n"
          ]
        }
      ]
    },
    {
      "cell_type": "code",
      "source": [
        "from datetime import datetime\n",
        "import pandas as pd\n",
        "from bcb import sgs\n",
        "import numpy as np\n",
        "from datetime import datetime, timedelta"
      ],
      "metadata": {
        "id": "YGHR8WvsbX5p"
      },
      "execution_count": null,
      "outputs": []
    },
    {
      "cell_type": "code",
      "source": [
        "data_operação = input(\"Qual a data da operação (aaaa-mm-dd)? \")"
      ],
      "metadata": {
        "colab": {
          "base_uri": "https://localhost:8080/"
        },
        "id": "gkvAgepKBgYo",
        "outputId": "91d875cd-82a7-480d-f1c2-2826a1bd1530"
      },
      "execution_count": null,
      "outputs": [
        {
          "name": "stdout",
          "output_type": "stream",
          "text": [
            "Qual a data da operação (aaaa-mm-dd)? 2024-02-27\n"
          ]
        }
      ]
    },
    {
      "cell_type": "code",
      "source": [
        "data_str = data_operação\n",
        "\n",
        "# Converta a string para um objeto datetime\n",
        "data = datetime.strptime(data_str, '%Y-%m-%d')\n",
        "\n",
        "# Subtraia um dia usando timedelta\n",
        "data_menos_um_dia = data - timedelta(days=1)\n",
        "\n",
        "# Converta o resultado de volta para o formato desejado\n",
        "data_menos_um_dia_operação = data_menos_um_dia.strftime('%Y-%m-%d')\n",
        "data_menos_um_dia_operação"
      ],
      "metadata": {
        "colab": {
          "base_uri": "https://localhost:8080/",
          "height": 35
        },
        "id": "NCWVbYxGD2j1",
        "outputId": "358ccabb-ccc0-4606-a68e-a13746168171"
      },
      "execution_count": null,
      "outputs": [
        {
          "output_type": "execute_result",
          "data": {
            "text/plain": [
              "'2024-02-26'"
            ],
            "application/vnd.google.colaboratory.intrinsic+json": {
              "type": "string"
            }
          },
          "metadata": {},
          "execution_count": 5
        }
      ]
    },
    {
      "cell_type": "code",
      "source": [
        "data_emissão = input(\"Qual a data da emissão (aaaa-mm-dd)? \")"
      ],
      "metadata": {
        "colab": {
          "base_uri": "https://localhost:8080/"
        },
        "id": "0zL2qw1KBgWV",
        "outputId": "f90d752b-6918-4ccd-ee1f-b41773c60481"
      },
      "execution_count": null,
      "outputs": [
        {
          "name": "stdout",
          "output_type": "stream",
          "text": [
            "Qual a data da emissão (aaaa-mm-dd)? 2020-12-22\n"
          ]
        }
      ]
    },
    {
      "cell_type": "code",
      "source": [
        "data_vencimento = input(\"Qual a data da vencimento (aaaa-mm-dd)? \")"
      ],
      "metadata": {
        "colab": {
          "base_uri": "https://localhost:8080/"
        },
        "id": "V5q0H6T7BgTb",
        "outputId": "c84bce40-ca7f-4418-fb47-b175a4a40022"
      },
      "execution_count": null,
      "outputs": [
        {
          "name": "stdout",
          "output_type": "stream",
          "text": [
            "Qual a data da vencimento (aaaa-mm-dd)? 2026-05-18\n"
          ]
        }
      ]
    },
    {
      "cell_type": "code",
      "source": [
        "PU_inicial = float(input(\"Qual o PU inicial? \"))"
      ],
      "metadata": {
        "colab": {
          "base_uri": "https://localhost:8080/"
        },
        "id": "SZdO6wMsBgQk",
        "outputId": "aea591f0-c0c6-4890-c63c-ae15dfbb507a"
      },
      "execution_count": null,
      "outputs": [
        {
          "name": "stdout",
          "output_type": "stream",
          "text": [
            "Qual o PU inicial? 323018.51\n"
          ]
        }
      ]
    },
    {
      "cell_type": "code",
      "source": [
        "taxa_emissão = float(input(\"Qual a taxa de emissão?\"))\n",
        "\n",
        "taxa_emissão = taxa_emissão/100"
      ],
      "metadata": {
        "colab": {
          "base_uri": "https://localhost:8080/"
        },
        "id": "a3F8YDjiBgOA",
        "outputId": "67b9e79b-bb2b-42eb-ed08-c5d1a5c1bd25"
      },
      "execution_count": null,
      "outputs": [
        {
          "name": "stdout",
          "output_type": "stream",
          "text": [
            "Qual a taxa de emissão?0.69\n"
          ]
        }
      ]
    },
    {
      "cell_type": "code",
      "source": [
        "tx_neg = float(input(\"Qual a taxa de negociação?\"))\n",
        "tx_neg = tx_neg /100"
      ],
      "metadata": {
        "colab": {
          "base_uri": "https://localhost:8080/"
        },
        "id": "UQG164tvL1la",
        "outputId": "3facec36-0981-4409-845e-24f268078dc0"
      },
      "execution_count": null,
      "outputs": [
        {
          "name": "stdout",
          "output_type": "stream",
          "text": [
            "Qual a taxa de negociação?0.8\n"
          ]
        }
      ]
    },
    {
      "cell_type": "code",
      "source": [
        "data1 = datetime.strptime(data_vencimento, '%Y-%m-%d')\n",
        "data2 = datetime.strptime(data_operação, '%Y-%m-%d')\n",
        "dias_venc = ((data1 - data2).days)-1\n",
        "dias_venc"
      ],
      "metadata": {
        "colab": {
          "base_uri": "https://localhost:8080/"
        },
        "id": "JfLI9X2F63yi",
        "outputId": "70e6f341-fe6d-4112-c9a0-467ef7c5c63b"
      },
      "execution_count": null,
      "outputs": [
        {
          "output_type": "execute_result",
          "data": {
            "text/plain": [
              "810"
            ]
          },
          "metadata": {},
          "execution_count": 11
        }
      ]
    },
    {
      "cell_type": "code",
      "source": [
        "data_cdi = sgs.get(('CDI', 12), last=3000)\n",
        "data_cdi = data_cdi['CDI']\n",
        "data_cdi"
      ],
      "metadata": {
        "colab": {
          "base_uri": "https://localhost:8080/"
        },
        "id": "Onop2f-lznEn",
        "outputId": "5d2b4da3-616d-4534-aa98-eed456559c0f"
      },
      "execution_count": null,
      "outputs": [
        {
          "output_type": "execute_result",
          "data": {
            "text/plain": [
              "Date\n",
              "2012-03-15    0.035839\n",
              "2012-03-16    0.035984\n",
              "2012-03-19    0.035948\n",
              "2012-03-20    0.035948\n",
              "2012-03-21    0.035948\n",
              "                ...   \n",
              "2024-02-21    0.041957\n",
              "2024-02-22    0.041957\n",
              "2024-02-23    0.041957\n",
              "2024-02-26    0.041957\n",
              "2024-02-27    0.041957\n",
              "Name: CDI, Length: 3000, dtype: float64"
            ]
          },
          "metadata": {},
          "execution_count": 12
        }
      ]
    },
    {
      "cell_type": "code",
      "source": [
        "data_filt = data_cdi.loc[data_emissão:data_menos_um_dia_operação]\n",
        "data_filt"
      ],
      "metadata": {
        "colab": {
          "base_uri": "https://localhost:8080/"
        },
        "id": "siiFeOEB8XyO",
        "outputId": "3e95ad3f-0186-48d8-e60f-6bb4e05162dc"
      },
      "execution_count": null,
      "outputs": [
        {
          "output_type": "execute_result",
          "data": {
            "text/plain": [
              "Date\n",
              "2020-12-22    0.007469\n",
              "2020-12-23    0.007469\n",
              "2020-12-24    0.007469\n",
              "2020-12-28    0.007469\n",
              "2020-12-29    0.007469\n",
              "                ...   \n",
              "2024-02-20    0.041957\n",
              "2024-02-21    0.041957\n",
              "2024-02-22    0.041957\n",
              "2024-02-23    0.041957\n",
              "2024-02-26    0.041957\n",
              "Name: CDI, Length: 796, dtype: float64"
            ]
          },
          "metadata": {},
          "execution_count": 13
        }
      ]
    },
    {
      "cell_type": "code",
      "source": [
        "# Acrescentando a próxima data e o valor correspondente\n",
        "ultima_data = pd.to_datetime(data_filt.index[-1])\n",
        "proxima_data = ultima_data + pd.Timedelta(days=1)\n",
        "ultimo_valor = data_filt.iloc[-1]\n",
        "\n",
        "data_filt[proxima_data] = ultimo_valor\n",
        "print(data_filt)"
      ],
      "metadata": {
        "colab": {
          "base_uri": "https://localhost:8080/"
        },
        "id": "uMCoWxoQ6tKO",
        "outputId": "1506acae-5473-48ba-c29a-8826e3d247a1"
      },
      "execution_count": null,
      "outputs": [
        {
          "output_type": "stream",
          "name": "stdout",
          "text": [
            "Date\n",
            "2020-12-22    0.007469\n",
            "2020-12-23    0.007469\n",
            "2020-12-24    0.007469\n",
            "2020-12-28    0.007469\n",
            "2020-12-29    0.007469\n",
            "                ...   \n",
            "2024-02-21    0.041957\n",
            "2024-02-22    0.041957\n",
            "2024-02-23    0.041957\n",
            "2024-02-26    0.041957\n",
            "2024-02-27    0.041957\n",
            "Name: CDI, Length: 797, dtype: float64\n"
          ]
        }
      ]
    },
    {
      "cell_type": "code",
      "source": [
        "import pandas as pd\n",
        "import requests\n",
        "\n",
        "# URL da página\n",
        "url = 'https://www2.bmf.com.br/pages/portal/bmfbovespa/boletim1/TxRef1.asp'\n",
        "\n",
        "# Realiza a solicitação HTTP\n",
        "response = requests.get(url)\n",
        "\n",
        "# Verifica se a solicitação foi bem-sucedida (código de status 200)\n",
        "if response.status_code == 200:\n",
        "    # Lê a tabela HTML diretamente usando o pandas\n",
        "    dfs = pd.read_html(response.text, flavor='bs4')  # 'bs4' indica o uso do BeautifulSoup para análise HTML\n",
        "\n",
        "    # O resultado será uma lista de DataFrames, onde cada DataFrame representa uma tabela na página\n",
        "    # Dependendo da página, você pode precisar procurar qual DataFrame contém os dados desejados\n",
        "    for i, df in enumerate(dfs):\n",
        "        print(f\"DataFrame {i + 1}:\\n{df}\")\n",
        "else:\n",
        "    print(f\"Falha na solicitação. Código de status: {response.status_code}\")"
      ],
      "metadata": {
        "colab": {
          "base_uri": "https://localhost:8080/"
        },
        "id": "Pi582wEg8f-b",
        "outputId": "dda2f5dd-7168-4586-a831-fb09dc5cd760"
      },
      "execution_count": null,
      "outputs": [
        {
          "output_type": "stream",
          "name": "stderr",
          "text": [
            "<ipython-input-15-14070766bd13>:13: FutureWarning: Passing literal html to 'read_html' is deprecated and will be removed in a future version. To read from a literal string, wrap it in a 'StringIO' object.\n",
            "  dfs = pd.read_html(response.text, flavor='bs4')  # 'bs4' indica o uso do BeautifulSoup para análise HTML\n"
          ]
        },
        {
          "output_type": "stream",
          "name": "stdout",
          "text": [
            "DataFrame 1:\n",
            "                                                   0            1\n",
            "0                          Atualizado em: 27/02/2024  Retroativo:\n",
            "1  Taxa: Ajuste cupom  Alumínio  DI x Anbid  Anbi...          NaN\n",
            "DataFrame 2:\n",
            "                                                     0          1         2\n",
            "0    Dias Corridos DI x pré 252(2)(4) 360(1) 1 11,1...        NaN       NaN\n",
            "1                                        Dias Corridos   DI x pré  DI x pré\n",
            "2                                        Dias Corridos  252(2)(4)    360(1)\n",
            "3                                                    1       1115       000\n",
            "4                                                    2       1115      1631\n",
            "..                                                 ...        ...       ...\n",
            "258                                               9485       1089      1066\n",
            "259                                               9666       1089      1066\n",
            "260                                              10800       1089      1066\n",
            "261                                              11402       1089      1066\n",
            "262                                              13320       1089      1066\n",
            "\n",
            "[263 rows x 3 columns]\n",
            "DataFrame 3:\n",
            "                 0          1         2\n",
            "0    Dias Corridos   DI x pré  DI x pré\n",
            "1    Dias Corridos  252(2)(4)    360(1)\n",
            "2                1       1115       000\n",
            "3                2       1115      1631\n",
            "4                3       1116      1631\n",
            "..             ...        ...       ...\n",
            "257           9485       1089      1066\n",
            "258           9666       1089      1066\n",
            "259          10800       1089      1066\n",
            "260          11402       1089      1066\n",
            "261          13320       1089      1066\n",
            "\n",
            "[262 rows x 3 columns]\n",
            "DataFrame 4:\n",
            "                                                   0\n",
            "0  (1) Taxa efetiva para 360 dias corridos. (2) T...\n"
          ]
        }
      ]
    },
    {
      "cell_type": "code",
      "source": [
        "di_tabela = dfs[2]\n",
        "di_tabela = di_tabela.set_index(0)\n",
        "di_tabela = di_tabela.iloc[2:]\n",
        "di_tabela = di_tabela[1]\n",
        "di_tabela = di_tabela.astype(float)\n",
        "di_tabela.index = di_tabela.index.astype(int)\n",
        "di_tabela = di_tabela/100\n",
        "di_tabela"
      ],
      "metadata": {
        "colab": {
          "base_uri": "https://localhost:8080/"
        },
        "id": "AsP8KrME8f7c",
        "outputId": "f88a8153-ddf9-468e-889a-973f1773c868"
      },
      "execution_count": null,
      "outputs": [
        {
          "output_type": "execute_result",
          "data": {
            "text/plain": [
              "0\n",
              "1        11.15\n",
              "2        11.15\n",
              "3        11.16\n",
              "7        11.10\n",
              "10       11.06\n",
              "         ...  \n",
              "9485     10.89\n",
              "9666     10.89\n",
              "10800    10.89\n",
              "11402    10.89\n",
              "13320    10.89\n",
              "Name: 1, Length: 260, dtype: float64"
            ]
          },
          "metadata": {},
          "execution_count": 16
        }
      ]
    },
    {
      "cell_type": "code",
      "source": [
        "df_di_tabela = pd.DataFrame(di_tabela)\n",
        "df_di_tabela"
      ],
      "metadata": {
        "colab": {
          "base_uri": "https://localhost:8080/",
          "height": 455
        },
        "id": "Ms2vPSFgIa5A",
        "outputId": "eb8a2728-5ada-4897-c614-485c130aaa0b"
      },
      "execution_count": null,
      "outputs": [
        {
          "output_type": "execute_result",
          "data": {
            "text/plain": [
              "           1\n",
              "0           \n",
              "1      11.15\n",
              "2      11.15\n",
              "3      11.16\n",
              "7      11.10\n",
              "10     11.06\n",
              "...      ...\n",
              "9485   10.89\n",
              "9666   10.89\n",
              "10800  10.89\n",
              "11402  10.89\n",
              "13320  10.89\n",
              "\n",
              "[260 rows x 1 columns]"
            ],
            "text/html": [
              "\n",
              "  <div id=\"df-3a625f74-7174-4617-b794-1f59764a4be5\" class=\"colab-df-container\">\n",
              "    <div>\n",
              "<style scoped>\n",
              "    .dataframe tbody tr th:only-of-type {\n",
              "        vertical-align: middle;\n",
              "    }\n",
              "\n",
              "    .dataframe tbody tr th {\n",
              "        vertical-align: top;\n",
              "    }\n",
              "\n",
              "    .dataframe thead th {\n",
              "        text-align: right;\n",
              "    }\n",
              "</style>\n",
              "<table border=\"1\" class=\"dataframe\">\n",
              "  <thead>\n",
              "    <tr style=\"text-align: right;\">\n",
              "      <th></th>\n",
              "      <th>1</th>\n",
              "    </tr>\n",
              "    <tr>\n",
              "      <th>0</th>\n",
              "      <th></th>\n",
              "    </tr>\n",
              "  </thead>\n",
              "  <tbody>\n",
              "    <tr>\n",
              "      <th>1</th>\n",
              "      <td>11.15</td>\n",
              "    </tr>\n",
              "    <tr>\n",
              "      <th>2</th>\n",
              "      <td>11.15</td>\n",
              "    </tr>\n",
              "    <tr>\n",
              "      <th>3</th>\n",
              "      <td>11.16</td>\n",
              "    </tr>\n",
              "    <tr>\n",
              "      <th>7</th>\n",
              "      <td>11.10</td>\n",
              "    </tr>\n",
              "    <tr>\n",
              "      <th>10</th>\n",
              "      <td>11.06</td>\n",
              "    </tr>\n",
              "    <tr>\n",
              "      <th>...</th>\n",
              "      <td>...</td>\n",
              "    </tr>\n",
              "    <tr>\n",
              "      <th>9485</th>\n",
              "      <td>10.89</td>\n",
              "    </tr>\n",
              "    <tr>\n",
              "      <th>9666</th>\n",
              "      <td>10.89</td>\n",
              "    </tr>\n",
              "    <tr>\n",
              "      <th>10800</th>\n",
              "      <td>10.89</td>\n",
              "    </tr>\n",
              "    <tr>\n",
              "      <th>11402</th>\n",
              "      <td>10.89</td>\n",
              "    </tr>\n",
              "    <tr>\n",
              "      <th>13320</th>\n",
              "      <td>10.89</td>\n",
              "    </tr>\n",
              "  </tbody>\n",
              "</table>\n",
              "<p>260 rows × 1 columns</p>\n",
              "</div>\n",
              "    <div class=\"colab-df-buttons\">\n",
              "\n",
              "  <div class=\"colab-df-container\">\n",
              "    <button class=\"colab-df-convert\" onclick=\"convertToInteractive('df-3a625f74-7174-4617-b794-1f59764a4be5')\"\n",
              "            title=\"Convert this dataframe to an interactive table.\"\n",
              "            style=\"display:none;\">\n",
              "\n",
              "  <svg xmlns=\"http://www.w3.org/2000/svg\" height=\"24px\" viewBox=\"0 -960 960 960\">\n",
              "    <path d=\"M120-120v-720h720v720H120Zm60-500h600v-160H180v160Zm220 220h160v-160H400v160Zm0 220h160v-160H400v160ZM180-400h160v-160H180v160Zm440 0h160v-160H620v160ZM180-180h160v-160H180v160Zm440 0h160v-160H620v160Z\"/>\n",
              "  </svg>\n",
              "    </button>\n",
              "\n",
              "  <style>\n",
              "    .colab-df-container {\n",
              "      display:flex;\n",
              "      gap: 12px;\n",
              "    }\n",
              "\n",
              "    .colab-df-convert {\n",
              "      background-color: #E8F0FE;\n",
              "      border: none;\n",
              "      border-radius: 50%;\n",
              "      cursor: pointer;\n",
              "      display: none;\n",
              "      fill: #1967D2;\n",
              "      height: 32px;\n",
              "      padding: 0 0 0 0;\n",
              "      width: 32px;\n",
              "    }\n",
              "\n",
              "    .colab-df-convert:hover {\n",
              "      background-color: #E2EBFA;\n",
              "      box-shadow: 0px 1px 2px rgba(60, 64, 67, 0.3), 0px 1px 3px 1px rgba(60, 64, 67, 0.15);\n",
              "      fill: #174EA6;\n",
              "    }\n",
              "\n",
              "    .colab-df-buttons div {\n",
              "      margin-bottom: 4px;\n",
              "    }\n",
              "\n",
              "    [theme=dark] .colab-df-convert {\n",
              "      background-color: #3B4455;\n",
              "      fill: #D2E3FC;\n",
              "    }\n",
              "\n",
              "    [theme=dark] .colab-df-convert:hover {\n",
              "      background-color: #434B5C;\n",
              "      box-shadow: 0px 1px 3px 1px rgba(0, 0, 0, 0.15);\n",
              "      filter: drop-shadow(0px 1px 2px rgba(0, 0, 0, 0.3));\n",
              "      fill: #FFFFFF;\n",
              "    }\n",
              "  </style>\n",
              "\n",
              "    <script>\n",
              "      const buttonEl =\n",
              "        document.querySelector('#df-3a625f74-7174-4617-b794-1f59764a4be5 button.colab-df-convert');\n",
              "      buttonEl.style.display =\n",
              "        google.colab.kernel.accessAllowed ? 'block' : 'none';\n",
              "\n",
              "      async function convertToInteractive(key) {\n",
              "        const element = document.querySelector('#df-3a625f74-7174-4617-b794-1f59764a4be5');\n",
              "        const dataTable =\n",
              "          await google.colab.kernel.invokeFunction('convertToInteractive',\n",
              "                                                    [key], {});\n",
              "        if (!dataTable) return;\n",
              "\n",
              "        const docLinkHtml = 'Like what you see? Visit the ' +\n",
              "          '<a target=\"_blank\" href=https://colab.research.google.com/notebooks/data_table.ipynb>data table notebook</a>'\n",
              "          + ' to learn more about interactive tables.';\n",
              "        element.innerHTML = '';\n",
              "        dataTable['output_type'] = 'display_data';\n",
              "        await google.colab.output.renderOutput(dataTable, element);\n",
              "        const docLink = document.createElement('div');\n",
              "        docLink.innerHTML = docLinkHtml;\n",
              "        element.appendChild(docLink);\n",
              "      }\n",
              "    </script>\n",
              "  </div>\n",
              "\n",
              "\n",
              "<div id=\"df-d4564235-035e-4fda-aedd-2d9bf4e9b04a\">\n",
              "  <button class=\"colab-df-quickchart\" onclick=\"quickchart('df-d4564235-035e-4fda-aedd-2d9bf4e9b04a')\"\n",
              "            title=\"Suggest charts\"\n",
              "            style=\"display:none;\">\n",
              "\n",
              "<svg xmlns=\"http://www.w3.org/2000/svg\" height=\"24px\"viewBox=\"0 0 24 24\"\n",
              "     width=\"24px\">\n",
              "    <g>\n",
              "        <path d=\"M19 3H5c-1.1 0-2 .9-2 2v14c0 1.1.9 2 2 2h14c1.1 0 2-.9 2-2V5c0-1.1-.9-2-2-2zM9 17H7v-7h2v7zm4 0h-2V7h2v10zm4 0h-2v-4h2v4z\"/>\n",
              "    </g>\n",
              "</svg>\n",
              "  </button>\n",
              "\n",
              "<style>\n",
              "  .colab-df-quickchart {\n",
              "      --bg-color: #E8F0FE;\n",
              "      --fill-color: #1967D2;\n",
              "      --hover-bg-color: #E2EBFA;\n",
              "      --hover-fill-color: #174EA6;\n",
              "      --disabled-fill-color: #AAA;\n",
              "      --disabled-bg-color: #DDD;\n",
              "  }\n",
              "\n",
              "  [theme=dark] .colab-df-quickchart {\n",
              "      --bg-color: #3B4455;\n",
              "      --fill-color: #D2E3FC;\n",
              "      --hover-bg-color: #434B5C;\n",
              "      --hover-fill-color: #FFFFFF;\n",
              "      --disabled-bg-color: #3B4455;\n",
              "      --disabled-fill-color: #666;\n",
              "  }\n",
              "\n",
              "  .colab-df-quickchart {\n",
              "    background-color: var(--bg-color);\n",
              "    border: none;\n",
              "    border-radius: 50%;\n",
              "    cursor: pointer;\n",
              "    display: none;\n",
              "    fill: var(--fill-color);\n",
              "    height: 32px;\n",
              "    padding: 0;\n",
              "    width: 32px;\n",
              "  }\n",
              "\n",
              "  .colab-df-quickchart:hover {\n",
              "    background-color: var(--hover-bg-color);\n",
              "    box-shadow: 0 1px 2px rgba(60, 64, 67, 0.3), 0 1px 3px 1px rgba(60, 64, 67, 0.15);\n",
              "    fill: var(--button-hover-fill-color);\n",
              "  }\n",
              "\n",
              "  .colab-df-quickchart-complete:disabled,\n",
              "  .colab-df-quickchart-complete:disabled:hover {\n",
              "    background-color: var(--disabled-bg-color);\n",
              "    fill: var(--disabled-fill-color);\n",
              "    box-shadow: none;\n",
              "  }\n",
              "\n",
              "  .colab-df-spinner {\n",
              "    border: 2px solid var(--fill-color);\n",
              "    border-color: transparent;\n",
              "    border-bottom-color: var(--fill-color);\n",
              "    animation:\n",
              "      spin 1s steps(1) infinite;\n",
              "  }\n",
              "\n",
              "  @keyframes spin {\n",
              "    0% {\n",
              "      border-color: transparent;\n",
              "      border-bottom-color: var(--fill-color);\n",
              "      border-left-color: var(--fill-color);\n",
              "    }\n",
              "    20% {\n",
              "      border-color: transparent;\n",
              "      border-left-color: var(--fill-color);\n",
              "      border-top-color: var(--fill-color);\n",
              "    }\n",
              "    30% {\n",
              "      border-color: transparent;\n",
              "      border-left-color: var(--fill-color);\n",
              "      border-top-color: var(--fill-color);\n",
              "      border-right-color: var(--fill-color);\n",
              "    }\n",
              "    40% {\n",
              "      border-color: transparent;\n",
              "      border-right-color: var(--fill-color);\n",
              "      border-top-color: var(--fill-color);\n",
              "    }\n",
              "    60% {\n",
              "      border-color: transparent;\n",
              "      border-right-color: var(--fill-color);\n",
              "    }\n",
              "    80% {\n",
              "      border-color: transparent;\n",
              "      border-right-color: var(--fill-color);\n",
              "      border-bottom-color: var(--fill-color);\n",
              "    }\n",
              "    90% {\n",
              "      border-color: transparent;\n",
              "      border-bottom-color: var(--fill-color);\n",
              "    }\n",
              "  }\n",
              "</style>\n",
              "\n",
              "  <script>\n",
              "    async function quickchart(key) {\n",
              "      const quickchartButtonEl =\n",
              "        document.querySelector('#' + key + ' button');\n",
              "      quickchartButtonEl.disabled = true;  // To prevent multiple clicks.\n",
              "      quickchartButtonEl.classList.add('colab-df-spinner');\n",
              "      try {\n",
              "        const charts = await google.colab.kernel.invokeFunction(\n",
              "            'suggestCharts', [key], {});\n",
              "      } catch (error) {\n",
              "        console.error('Error during call to suggestCharts:', error);\n",
              "      }\n",
              "      quickchartButtonEl.classList.remove('colab-df-spinner');\n",
              "      quickchartButtonEl.classList.add('colab-df-quickchart-complete');\n",
              "    }\n",
              "    (() => {\n",
              "      let quickchartButtonEl =\n",
              "        document.querySelector('#df-d4564235-035e-4fda-aedd-2d9bf4e9b04a button');\n",
              "      quickchartButtonEl.style.display =\n",
              "        google.colab.kernel.accessAllowed ? 'block' : 'none';\n",
              "    })();\n",
              "  </script>\n",
              "</div>\n",
              "\n",
              "  <div id=\"id_89bfdec4-bbff-4371-8722-cd651063e5b5\">\n",
              "    <style>\n",
              "      .colab-df-generate {\n",
              "        background-color: #E8F0FE;\n",
              "        border: none;\n",
              "        border-radius: 50%;\n",
              "        cursor: pointer;\n",
              "        display: none;\n",
              "        fill: #1967D2;\n",
              "        height: 32px;\n",
              "        padding: 0 0 0 0;\n",
              "        width: 32px;\n",
              "      }\n",
              "\n",
              "      .colab-df-generate:hover {\n",
              "        background-color: #E2EBFA;\n",
              "        box-shadow: 0px 1px 2px rgba(60, 64, 67, 0.3), 0px 1px 3px 1px rgba(60, 64, 67, 0.15);\n",
              "        fill: #174EA6;\n",
              "      }\n",
              "\n",
              "      [theme=dark] .colab-df-generate {\n",
              "        background-color: #3B4455;\n",
              "        fill: #D2E3FC;\n",
              "      }\n",
              "\n",
              "      [theme=dark] .colab-df-generate:hover {\n",
              "        background-color: #434B5C;\n",
              "        box-shadow: 0px 1px 3px 1px rgba(0, 0, 0, 0.15);\n",
              "        filter: drop-shadow(0px 1px 2px rgba(0, 0, 0, 0.3));\n",
              "        fill: #FFFFFF;\n",
              "      }\n",
              "    </style>\n",
              "    <button class=\"colab-df-generate\" onclick=\"generateWithVariable('df_di_tabela')\"\n",
              "            title=\"Generate code using this dataframe.\"\n",
              "            style=\"display:none;\">\n",
              "\n",
              "  <svg xmlns=\"http://www.w3.org/2000/svg\" height=\"24px\"viewBox=\"0 0 24 24\"\n",
              "       width=\"24px\">\n",
              "    <path d=\"M7,19H8.4L18.45,9,17,7.55,7,17.6ZM5,21V16.75L18.45,3.32a2,2,0,0,1,2.83,0l1.4,1.43a1.91,1.91,0,0,1,.58,1.4,1.91,1.91,0,0,1-.58,1.4L9.25,21ZM18.45,9,17,7.55Zm-12,3A5.31,5.31,0,0,0,4.9,8.1,5.31,5.31,0,0,0,1,6.5,5.31,5.31,0,0,0,4.9,4.9,5.31,5.31,0,0,0,6.5,1,5.31,5.31,0,0,0,8.1,4.9,5.31,5.31,0,0,0,12,6.5,5.46,5.46,0,0,0,6.5,12Z\"/>\n",
              "  </svg>\n",
              "    </button>\n",
              "    <script>\n",
              "      (() => {\n",
              "      const buttonEl =\n",
              "        document.querySelector('#id_89bfdec4-bbff-4371-8722-cd651063e5b5 button.colab-df-generate');\n",
              "      buttonEl.style.display =\n",
              "        google.colab.kernel.accessAllowed ? 'block' : 'none';\n",
              "\n",
              "      buttonEl.onclick = () => {\n",
              "        google.colab.notebook.generateWithVariable('df_di_tabela');\n",
              "      }\n",
              "      })();\n",
              "    </script>\n",
              "  </div>\n",
              "\n",
              "    </div>\n",
              "  </div>\n"
            ],
            "application/vnd.google.colaboratory.intrinsic+json": {
              "type": "dataframe",
              "variable_name": "df_di_tabela",
              "summary": "{\n  \"name\": \"df_di_tabela\",\n  \"rows\": 260,\n  \"fields\": [\n    {\n      \"column\": 1,\n      \"properties\": {\n        \"dtype\": \"number\",\n        \"std\": 0.43431146584156566,\n        \"min\": 9.8,\n        \"max\": 11.16,\n        \"num_unique_values\": 97,\n        \"samples\": [\n          9.81,\n          10.13,\n          10.83\n        ],\n        \"semantic_type\": \"\",\n        \"description\": \"\"\n      }\n    }\n  ]\n}"
            }
          },
          "metadata": {},
          "execution_count": 17
        }
      ]
    },
    {
      "cell_type": "code",
      "source": [
        "def interpolar_valor(df, x):\n",
        "  # Encontrar a linha na tabela onde o valor X está presente ou próximo.\n",
        "  linha = df.index[df.index <= x].max()\n",
        "\n",
        "  # Se o valor X já estiver presente na tabela DI, retornar o valor correspondente.\n",
        "  if linha == x:\n",
        "    return df.loc[linha,1]\n",
        "\n",
        "  # Se o valor X não estiver presente na tabela DI, interpolar.\n",
        "  if linha != x:\n",
        "    di_anterior = df_di_tabela.loc[linha,1]\n",
        "    posicao = df_di_tabela.index.get_loc(linha)\n",
        "    # Obter o próximo índice\n",
        "    proximo_indice = posicao + 1\n",
        "    di_prox = df_di_tabela[1].iloc[proximo_indice]\n",
        "    prox_num_dias_di = df_di_tabela.index[proximo_indice]\n",
        "    interpolação = di_anterior + (x-linha) * ((di_prox-di_anterior) / (prox_num_dias_di-linha))\n",
        "    return round(interpolação,2)\n",
        "\n",
        "  return 0"
      ],
      "metadata": {
        "id": "4cLWFDNLn340"
      },
      "execution_count": null,
      "outputs": []
    },
    {
      "cell_type": "code",
      "source": [
        "interpolar_valor(df_di_tabela,69)/100"
      ],
      "metadata": {
        "colab": {
          "base_uri": "https://localhost:8080/"
        },
        "id": "LOiYROWByoBS",
        "outputId": "f8658b9b-d2b4-4ae9-ff60-091fe5185d57"
      },
      "execution_count": null,
      "outputs": [
        {
          "output_type": "execute_result",
          "data": {
            "text/plain": [
              "0.1082"
            ]
          },
          "metadata": {},
          "execution_count": 54
        }
      ]
    },
    {
      "cell_type": "code",
      "source": [
        "interpolar_valor(df_di_tabela,dias_venc)/100"
      ],
      "metadata": {
        "colab": {
          "base_uri": "https://localhost:8080/"
        },
        "id": "D6T5l3Gbn3zq",
        "outputId": "ef505dd4-a177-4fac-a58f-6ab65ed316be"
      },
      "execution_count": null,
      "outputs": [
        {
          "output_type": "execute_result",
          "data": {
            "text/plain": [
              "0.09880000000000001"
            ]
          },
          "metadata": {},
          "execution_count": 52
        }
      ]
    },
    {
      "cell_type": "code",
      "source": [
        "indice_mais_proximo = (di_tabela.index.to_series() - dias_venc).abs().idxmin()\n",
        "tx_di = di_tabela.loc[indice_mais_proximo]\n",
        "tx_di = tx_di/100\n",
        "tx_di"
      ],
      "metadata": {
        "colab": {
          "base_uri": "https://localhost:8080/"
        },
        "id": "BzpsjsSv8f4j",
        "outputId": "2866d0f4-152d-4c6d-bce5-1770ad9ee338"
      },
      "execution_count": null,
      "outputs": [
        {
          "output_type": "execute_result",
          "data": {
            "text/plain": [
              "0.09880000000000001"
            ]
          },
          "metadata": {},
          "execution_count": 51
        }
      ]
    },
    {
      "cell_type": "code",
      "source": [
        "di = ((data_filt/100)+1)*((1+taxa_emissão)**(1/252))\n",
        "di_per = di.product()\n",
        "di_per"
      ],
      "metadata": {
        "colab": {
          "base_uri": "https://localhost:8080/"
        },
        "id": "OJtoLo9-EQVe",
        "outputId": "1b515384-33f1-4ab1-a88c-d05437fd2659"
      },
      "execution_count": null,
      "outputs": [
        {
          "output_type": "execute_result",
          "data": {
            "text/plain": [
              "1.3776066554516382"
            ]
          },
          "metadata": {},
          "execution_count": 24
        }
      ]
    },
    {
      "cell_type": "code",
      "source": [
        "pu_par = di_per*PU_inicial\n",
        "pu_par"
      ],
      "metadata": {
        "colab": {
          "base_uri": "https://localhost:8080/"
        },
        "id": "uJDsPoK8ca73",
        "outputId": "db7aeba7-689f-4b66-d105-e17ba2cb9766"
      },
      "execution_count": null,
      "outputs": [
        {
          "output_type": "execute_result",
          "data": {
            "text/plain": [
              "579249.1768670726"
            ]
          },
          "metadata": {},
          "execution_count": 22
        }
      ]
    },
    {
      "cell_type": "code",
      "source": [
        "dados_excel = pd.read_excel('/content/feriados.xlsx')\n",
        "feriados = dados_excel['2001-01-01'].tolist()\n",
        "datas = pd.date_range(start=data_emissão, end=data_operação, freq='B')\n",
        "dias_uteis = datas[~datas.isin(feriados)]\n",
        "num_dias_uteis = len(dias_uteis)-1\n",
        "num_dias_uteis"
      ],
      "metadata": {
        "colab": {
          "base_uri": "https://localhost:8080/"
        },
        "id": "0dt2FznCf7uY",
        "outputId": "a0abeb10-5090-4aee-acd9-58d92fca42e3"
      },
      "execution_count": null,
      "outputs": [
        {
          "output_type": "execute_result",
          "data": {
            "text/plain": [
              "1829"
            ]
          },
          "metadata": {},
          "execution_count": 23
        }
      ]
    },
    {
      "cell_type": "code",
      "source": [
        "datas = pd.date_range(start=data_operação, end=data_vencimento, freq='B')\n",
        "dias_uteis = datas[~datas.isin(feriados)]\n",
        "num_dias_uteis_2 = len(dias_uteis)-1\n",
        "num_dias_uteis_2"
      ],
      "metadata": {
        "colab": {
          "base_uri": "https://localhost:8080/"
        },
        "id": "sGYy-PmcFUDP",
        "outputId": "7ef15306-657e-47e7-9774-0e69cfae6e62"
      },
      "execution_count": null,
      "outputs": [
        {
          "output_type": "execute_result",
          "data": {
            "text/plain": [
              "741"
            ]
          },
          "metadata": {},
          "execution_count": 24
        }
      ]
    },
    {
      "cell_type": "code",
      "source": [
        "di_int_acum =((((1+tx_di)**(1/252))*((1+taxa_emissão)**(1/252)))**(252))-1\n",
        "round(di_int_acum*100,2)"
      ],
      "metadata": {
        "colab": {
          "base_uri": "https://localhost:8080/"
        },
        "id": "If2Ay38NHwkz",
        "outputId": "f90635f5-a7a4-4743-b3bb-762c2a90ee6d"
      },
      "execution_count": null,
      "outputs": [
        {
          "output_type": "execute_result",
          "data": {
            "text/plain": [
              "11.51"
            ]
          },
          "metadata": {},
          "execution_count": 25
        }
      ]
    },
    {
      "cell_type": "code",
      "source": [
        "di_int_acum_2 = +(1+di_int_acum)**(num_dias_uteis_2/252)-1\n",
        "round(di_int_acum_2*100,2)"
      ],
      "metadata": {
        "colab": {
          "base_uri": "https://localhost:8080/"
        },
        "id": "OkaxhAMdHyLp",
        "outputId": "85eb686b-a1c6-485b-8ff2-4cd333004d54"
      },
      "execution_count": null,
      "outputs": [
        {
          "output_type": "execute_result",
          "data": {
            "text/plain": [
              "37.74"
            ]
          },
          "metadata": {},
          "execution_count": 26
        }
      ]
    },
    {
      "cell_type": "code",
      "source": [
        "neg_di_acum=((((1+tx_neg)**(1/252))*((1+tx_di)**(1/252)))**(252))-1\n",
        "\n",
        "round(neg_di_acum*100,2)"
      ],
      "metadata": {
        "colab": {
          "base_uri": "https://localhost:8080/"
        },
        "id": "tyQCBbL1HyJh",
        "outputId": "07b9c100-2acf-4515-88fa-69c5d0ca1f38"
      },
      "execution_count": null,
      "outputs": [
        {
          "output_type": "execute_result",
          "data": {
            "text/plain": [
              "11.45"
            ]
          },
          "metadata": {},
          "execution_count": 27
        }
      ]
    },
    {
      "cell_type": "code",
      "source": [
        "neg_di_acum_2 =+(1+neg_di_acum)**(num_dias_uteis_2/252)-1\n",
        "round(neg_di_acum_2*100,2)"
      ],
      "metadata": {
        "colab": {
          "base_uri": "https://localhost:8080/"
        },
        "id": "rIYKSmn3HyG8",
        "outputId": "fd417714-4cc0-47c9-86d3-55d4be134bb4"
      },
      "execution_count": null,
      "outputs": [
        {
          "output_type": "execute_result",
          "data": {
            "text/plain": [
              "37.54"
            ]
          },
          "metadata": {},
          "execution_count": 28
        }
      ]
    },
    {
      "cell_type": "code",
      "source": [
        "vf = (di_int_acum_2 + 1)*pu_par\n",
        "vf"
      ],
      "metadata": {
        "colab": {
          "base_uri": "https://localhost:8080/"
        },
        "id": "bb5pGPpZHyES",
        "outputId": "ebe3910b-50ec-460d-9b76-361d3b11dabf"
      },
      "execution_count": null,
      "outputs": [
        {
          "output_type": "execute_result",
          "data": {
            "text/plain": [
              "797877.8417531074"
            ]
          },
          "metadata": {},
          "execution_count": 29
        }
      ]
    },
    {
      "cell_type": "code",
      "source": [
        "pu_final = vf / (1+neg_di_acum_2)\n",
        "pu_final"
      ],
      "metadata": {
        "colab": {
          "base_uri": "https://localhost:8080/"
        },
        "id": "cg0CHamzHwig",
        "outputId": "9706a231-5b99-4dcc-d0ee-0d1c88e1d2b5"
      },
      "execution_count": null,
      "outputs": [
        {
          "output_type": "execute_result",
          "data": {
            "text/plain": [
              "580090.2845784874"
            ]
          },
          "metadata": {},
          "execution_count": 30
        }
      ]
    },
    {
      "cell_type": "code",
      "source": [
        "quantidade = float(input('qual a quantidade?'))"
      ],
      "metadata": {
        "colab": {
          "base_uri": "https://localhost:8080/"
        },
        "id": "barzwocIKJjl",
        "outputId": "ef84b2ba-534e-4bb4-d3f1-23ed468da01f"
      },
      "execution_count": null,
      "outputs": [
        {
          "name": "stdout",
          "output_type": "stream",
          "text": [
            "qual a quantidade?3\n"
          ]
        }
      ]
    },
    {
      "cell_type": "code",
      "source": [
        "financeiro = round(pu_final*quantidade,2)\n",
        "financeiro"
      ],
      "metadata": {
        "colab": {
          "base_uri": "https://localhost:8080/"
        },
        "id": "8SDyAd-gG7v6",
        "outputId": "17c8229f-35c3-4c35-ae76-88545d9ff453"
      },
      "execution_count": null,
      "outputs": [
        {
          "output_type": "execute_result",
          "data": {
            "text/plain": [
              "1740270.85"
            ]
          },
          "metadata": {},
          "execution_count": 32
        }
      ]
    },
    {
      "cell_type": "code",
      "source": [
        "import locale\n",
        "\n",
        "# Configuração da localidade para o formato financeiro\n",
        "locale.setlocale(locale.LC_ALL, '')\n",
        "\n",
        "# Valor em formato numpy.float64\n",
        "valor_float64 = np.float64(financeiro)\n",
        "\n",
        "# Converte para uma string no formato financeiro\n",
        "valor_formatado = locale.currency(valor_float64, grouping=True)\n",
        "\n",
        "valor_formatado"
      ],
      "metadata": {
        "colab": {
          "base_uri": "https://localhost:8080/",
          "height": 35
        },
        "id": "Xk3UgXghJnmz",
        "outputId": "cac99385-3854-43a4-cd0f-5c5b3eca9b30"
      },
      "execution_count": null,
      "outputs": [
        {
          "output_type": "execute_result",
          "data": {
            "text/plain": [
              "'$1,740,270.85'"
            ],
            "application/vnd.google.colaboratory.intrinsic+json": {
              "type": "string"
            }
          },
          "metadata": {},
          "execution_count": 33
        }
      ]
    }
  ]
}