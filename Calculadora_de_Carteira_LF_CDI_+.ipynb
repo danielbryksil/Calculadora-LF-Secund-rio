{
  "nbformat": 4,
  "nbformat_minor": 0,
  "metadata": {
    "colab": {
      "provenance": [],
      "authorship_tag": "ABX9TyOzk5pgqY2FEwB7wDiJuuwk",
      "include_colab_link": true
    },
    "kernelspec": {
      "name": "python3",
      "display_name": "Python 3"
    },
    "language_info": {
      "name": "python"
    }
  },
  "cells": [
    {
      "cell_type": "markdown",
      "metadata": {
        "id": "view-in-github",
        "colab_type": "text"
      },
      "source": [
        "<a href=\"https://colab.research.google.com/github/danielbryksil/Calculadora-LF-Secund-rio/blob/main/Calculadora_de_Carteira_LF_CDI_%2B.ipynb\" target=\"_parent\"><img src=\"https://colab.research.google.com/assets/colab-badge.svg\" alt=\"Open In Colab\"/></a>"
      ]
    },
    {
      "cell_type": "markdown",
      "source": [
        "## Calculadora PU CDI +\n"
      ],
      "metadata": {
        "id": "DhWLLHGZdr9d"
      }
    },
    {
      "cell_type": "code",
      "source": [
        "!pip install python-bcb\n",
        "!pip install pandas_market_calendars"
      ],
      "metadata": {
        "colab": {
          "base_uri": "https://localhost:8080/"
        },
        "id": "oCo0kJHlBixi",
        "outputId": "352a9562-95fb-4a95-bdbc-4a545396f57e"
      },
      "execution_count": 1,
      "outputs": [
        {
          "output_type": "stream",
          "name": "stdout",
          "text": [
            "Collecting python-bcb\n",
            "  Downloading python_bcb-0.2.0-py3-none-any.whl (16 kB)\n",
            "Collecting httpx<0.25.0,>=0.24.0 (from python-bcb)\n",
            "  Downloading httpx-0.24.1-py3-none-any.whl (75 kB)\n",
            "\u001b[?25l     \u001b[90m━━━━━━━━━━━━━━━━━━━━━━━━━━━━━━━━━━━━━━━━\u001b[0m \u001b[32m0.0/75.4 kB\u001b[0m \u001b[31m?\u001b[0m eta \u001b[36m-:--:--\u001b[0m\r\u001b[2K     \u001b[90m━━━━━━━━━━━━━━━━━━━━━━━━━━━━━━━━━━━━━━━━\u001b[0m \u001b[32m75.4/75.4 kB\u001b[0m \u001b[31m4.1 MB/s\u001b[0m eta \u001b[36m0:00:00\u001b[0m\n",
            "\u001b[?25hRequirement already satisfied: lxml<5.0.0,>=4.9.2 in /usr/local/lib/python3.10/dist-packages (from python-bcb) (4.9.4)\n",
            "Collecting pandas<3.0.0,>=2.0.0 (from python-bcb)\n",
            "  Downloading pandas-2.2.1-cp310-cp310-manylinux_2_17_x86_64.manylinux2014_x86_64.whl (13.0 MB)\n",
            "\u001b[2K     \u001b[90m━━━━━━━━━━━━━━━━━━━━━━━━━━━━━━━━━━━━━━━━\u001b[0m \u001b[32m13.0/13.0 MB\u001b[0m \u001b[31m103.3 MB/s\u001b[0m eta \u001b[36m0:00:00\u001b[0m\n",
            "\u001b[?25hRequirement already satisfied: requests<3.0.0,>=2.31.0 in /usr/local/lib/python3.10/dist-packages (from python-bcb) (2.31.0)\n",
            "Requirement already satisfied: certifi in /usr/local/lib/python3.10/dist-packages (from httpx<0.25.0,>=0.24.0->python-bcb) (2024.2.2)\n",
            "Collecting httpcore<0.18.0,>=0.15.0 (from httpx<0.25.0,>=0.24.0->python-bcb)\n",
            "  Downloading httpcore-0.17.3-py3-none-any.whl (74 kB)\n",
            "\u001b[2K     \u001b[90m━━━━━━━━━━━━━━━━━━━━━━━━━━━━━━━━━━━━━━━━\u001b[0m \u001b[32m74.5/74.5 kB\u001b[0m \u001b[31m6.2 MB/s\u001b[0m eta \u001b[36m0:00:00\u001b[0m\n",
            "\u001b[?25hRequirement already satisfied: idna in /usr/local/lib/python3.10/dist-packages (from httpx<0.25.0,>=0.24.0->python-bcb) (3.6)\n",
            "Requirement already satisfied: sniffio in /usr/local/lib/python3.10/dist-packages (from httpx<0.25.0,>=0.24.0->python-bcb) (1.3.1)\n",
            "Requirement already satisfied: numpy<2,>=1.22.4 in /usr/local/lib/python3.10/dist-packages (from pandas<3.0.0,>=2.0.0->python-bcb) (1.25.2)\n",
            "Requirement already satisfied: python-dateutil>=2.8.2 in /usr/local/lib/python3.10/dist-packages (from pandas<3.0.0,>=2.0.0->python-bcb) (2.8.2)\n",
            "Requirement already satisfied: pytz>=2020.1 in /usr/local/lib/python3.10/dist-packages (from pandas<3.0.0,>=2.0.0->python-bcb) (2023.4)\n",
            "Collecting tzdata>=2022.7 (from pandas<3.0.0,>=2.0.0->python-bcb)\n",
            "  Downloading tzdata-2024.1-py2.py3-none-any.whl (345 kB)\n",
            "\u001b[2K     \u001b[90m━━━━━━━━━━━━━━━━━━━━━━━━━━━━━━━━━━━━━━━━\u001b[0m \u001b[32m345.4/345.4 kB\u001b[0m \u001b[31m26.9 MB/s\u001b[0m eta \u001b[36m0:00:00\u001b[0m\n",
            "\u001b[?25hRequirement already satisfied: charset-normalizer<4,>=2 in /usr/local/lib/python3.10/dist-packages (from requests<3.0.0,>=2.31.0->python-bcb) (3.3.2)\n",
            "Requirement already satisfied: urllib3<3,>=1.21.1 in /usr/local/lib/python3.10/dist-packages (from requests<3.0.0,>=2.31.0->python-bcb) (2.0.7)\n",
            "Collecting h11<0.15,>=0.13 (from httpcore<0.18.0,>=0.15.0->httpx<0.25.0,>=0.24.0->python-bcb)\n",
            "  Downloading h11-0.14.0-py3-none-any.whl (58 kB)\n",
            "\u001b[2K     \u001b[90m━━━━━━━━━━━━━━━━━━━━━━━━━━━━━━━━━━━━━━━━\u001b[0m \u001b[32m58.3/58.3 kB\u001b[0m \u001b[31m6.8 MB/s\u001b[0m eta \u001b[36m0:00:00\u001b[0m\n",
            "\u001b[?25hRequirement already satisfied: anyio<5.0,>=3.0 in /usr/local/lib/python3.10/dist-packages (from httpcore<0.18.0,>=0.15.0->httpx<0.25.0,>=0.24.0->python-bcb) (3.7.1)\n",
            "Requirement already satisfied: six>=1.5 in /usr/local/lib/python3.10/dist-packages (from python-dateutil>=2.8.2->pandas<3.0.0,>=2.0.0->python-bcb) (1.16.0)\n",
            "Requirement already satisfied: exceptiongroup in /usr/local/lib/python3.10/dist-packages (from anyio<5.0,>=3.0->httpcore<0.18.0,>=0.15.0->httpx<0.25.0,>=0.24.0->python-bcb) (1.2.0)\n",
            "Installing collected packages: tzdata, h11, pandas, httpcore, httpx, python-bcb\n",
            "  Attempting uninstall: pandas\n",
            "    Found existing installation: pandas 1.5.3\n",
            "    Uninstalling pandas-1.5.3:\n",
            "      Successfully uninstalled pandas-1.5.3\n",
            "\u001b[31mERROR: pip's dependency resolver does not currently take into account all the packages that are installed. This behaviour is the source of the following dependency conflicts.\n",
            "bigframes 0.22.0 requires pandas<2.1.4,>=1.5.0, but you have pandas 2.2.1 which is incompatible.\n",
            "google-colab 1.0.0 requires pandas==1.5.3, but you have pandas 2.2.1 which is incompatible.\u001b[0m\u001b[31m\n",
            "\u001b[0mSuccessfully installed h11-0.14.0 httpcore-0.17.3 httpx-0.24.1 pandas-2.2.1 python-bcb-0.2.0 tzdata-2024.1\n",
            "Collecting pandas_market_calendars\n",
            "  Downloading pandas_market_calendars-4.4.0-py3-none-any.whl (106 kB)\n",
            "\u001b[2K     \u001b[90m━━━━━━━━━━━━━━━━━━━━━━━━━━━━━━━━━━━━━━━━\u001b[0m \u001b[32m106.6/106.6 kB\u001b[0m \u001b[31m4.4 MB/s\u001b[0m eta \u001b[36m0:00:00\u001b[0m\n",
            "\u001b[?25hRequirement already satisfied: pandas>=1.1 in /usr/local/lib/python3.10/dist-packages (from pandas_market_calendars) (2.2.1)\n",
            "Requirement already satisfied: pytz in /usr/local/lib/python3.10/dist-packages (from pandas_market_calendars) (2023.4)\n",
            "Requirement already satisfied: python-dateutil in /usr/local/lib/python3.10/dist-packages (from pandas_market_calendars) (2.8.2)\n",
            "Collecting exchange-calendars>=3.3 (from pandas_market_calendars)\n",
            "  Downloading exchange_calendars-4.5.3-py3-none-any.whl (191 kB)\n",
            "\u001b[2K     \u001b[90m━━━━━━━━━━━━━━━━━━━━━━━━━━━━━━━━━━━━━━━━\u001b[0m \u001b[32m191.7/191.7 kB\u001b[0m \u001b[31m14.0 MB/s\u001b[0m eta \u001b[36m0:00:00\u001b[0m\n",
            "\u001b[?25hRequirement already satisfied: numpy<2 in /usr/local/lib/python3.10/dist-packages (from exchange-calendars>=3.3->pandas_market_calendars) (1.25.2)\n",
            "Collecting pyluach (from exchange-calendars>=3.3->pandas_market_calendars)\n",
            "  Downloading pyluach-2.2.0-py3-none-any.whl (25 kB)\n",
            "Requirement already satisfied: toolz in /usr/local/lib/python3.10/dist-packages (from exchange-calendars>=3.3->pandas_market_calendars) (0.12.1)\n",
            "Requirement already satisfied: tzdata in /usr/local/lib/python3.10/dist-packages (from exchange-calendars>=3.3->pandas_market_calendars) (2024.1)\n",
            "Collecting korean-lunar-calendar (from exchange-calendars>=3.3->pandas_market_calendars)\n",
            "  Downloading korean_lunar_calendar-0.3.1-py3-none-any.whl (9.0 kB)\n",
            "Requirement already satisfied: six>=1.5 in /usr/local/lib/python3.10/dist-packages (from python-dateutil->pandas_market_calendars) (1.16.0)\n",
            "Installing collected packages: korean-lunar-calendar, pyluach, exchange-calendars, pandas_market_calendars\n",
            "Successfully installed exchange-calendars-4.5.3 korean-lunar-calendar-0.3.1 pandas_market_calendars-4.4.0 pyluach-2.2.0\n"
          ]
        }
      ]
    },
    {
      "cell_type": "code",
      "source": [
        "from datetime import datetime\n",
        "import pandas as pd\n",
        "from bcb import sgs\n",
        "import numpy as np\n",
        "from datetime import datetime, timedelta\n",
        "from google.colab import files\n",
        "import pandas as pd\n",
        "import requests"
      ],
      "metadata": {
        "id": "YGHR8WvsbX5p"
      },
      "execution_count": 2,
      "outputs": []
    },
    {
      "cell_type": "code",
      "source": [
        "dados_excel = pd.read_excel('/content/feriados.xlsx')\n",
        "feriados = dados_excel['2001-01-01'].tolist()"
      ],
      "metadata": {
        "id": "6G9xY_rOaXf6",
        "colab": {
          "base_uri": "https://localhost:8080/",
          "height": 304
        },
        "outputId": "c1c0e030-b33c-453f-f2c9-e2337b8749c8"
      },
      "execution_count": 3,
      "outputs": [
        {
          "output_type": "error",
          "ename": "FileNotFoundError",
          "evalue": "[Errno 2] No such file or directory: '/content/feriados.xlsx'",
          "traceback": [
            "\u001b[0;31m---------------------------------------------------------------------------\u001b[0m",
            "\u001b[0;31mFileNotFoundError\u001b[0m                         Traceback (most recent call last)",
            "\u001b[0;32m<ipython-input-3-6feb79d4e70d>\u001b[0m in \u001b[0;36m<cell line: 1>\u001b[0;34m()\u001b[0m\n\u001b[0;32m----> 1\u001b[0;31m \u001b[0mdados_excel\u001b[0m \u001b[0;34m=\u001b[0m \u001b[0mpd\u001b[0m\u001b[0;34m.\u001b[0m\u001b[0mread_excel\u001b[0m\u001b[0;34m(\u001b[0m\u001b[0;34m'/content/feriados.xlsx'\u001b[0m\u001b[0;34m)\u001b[0m\u001b[0;34m\u001b[0m\u001b[0;34m\u001b[0m\u001b[0m\n\u001b[0m\u001b[1;32m      2\u001b[0m \u001b[0mferiados\u001b[0m \u001b[0;34m=\u001b[0m \u001b[0mdados_excel\u001b[0m\u001b[0;34m[\u001b[0m\u001b[0;34m'2001-01-01'\u001b[0m\u001b[0;34m]\u001b[0m\u001b[0;34m.\u001b[0m\u001b[0mtolist\u001b[0m\u001b[0;34m(\u001b[0m\u001b[0;34m)\u001b[0m\u001b[0;34m\u001b[0m\u001b[0;34m\u001b[0m\u001b[0m\n",
            "\u001b[0;32m/usr/local/lib/python3.10/dist-packages/pandas/io/excel/_base.py\u001b[0m in \u001b[0;36mread_excel\u001b[0;34m(io, sheet_name, header, names, index_col, usecols, dtype, engine, converters, true_values, false_values, skiprows, nrows, na_values, keep_default_na, na_filter, verbose, parse_dates, date_parser, date_format, thousands, decimal, comment, skipfooter, storage_options, dtype_backend, engine_kwargs)\u001b[0m\n\u001b[1;32m    493\u001b[0m     \u001b[0;32mif\u001b[0m \u001b[0;32mnot\u001b[0m \u001b[0misinstance\u001b[0m\u001b[0;34m(\u001b[0m\u001b[0mio\u001b[0m\u001b[0;34m,\u001b[0m \u001b[0mExcelFile\u001b[0m\u001b[0;34m)\u001b[0m\u001b[0;34m:\u001b[0m\u001b[0;34m\u001b[0m\u001b[0;34m\u001b[0m\u001b[0m\n\u001b[1;32m    494\u001b[0m         \u001b[0mshould_close\u001b[0m \u001b[0;34m=\u001b[0m \u001b[0;32mTrue\u001b[0m\u001b[0;34m\u001b[0m\u001b[0;34m\u001b[0m\u001b[0m\n\u001b[0;32m--> 495\u001b[0;31m         io = ExcelFile(\n\u001b[0m\u001b[1;32m    496\u001b[0m             \u001b[0mio\u001b[0m\u001b[0;34m,\u001b[0m\u001b[0;34m\u001b[0m\u001b[0;34m\u001b[0m\u001b[0m\n\u001b[1;32m    497\u001b[0m             \u001b[0mstorage_options\u001b[0m\u001b[0;34m=\u001b[0m\u001b[0mstorage_options\u001b[0m\u001b[0;34m,\u001b[0m\u001b[0;34m\u001b[0m\u001b[0;34m\u001b[0m\u001b[0m\n",
            "\u001b[0;32m/usr/local/lib/python3.10/dist-packages/pandas/io/excel/_base.py\u001b[0m in \u001b[0;36m__init__\u001b[0;34m(self, path_or_buffer, engine, storage_options, engine_kwargs)\u001b[0m\n\u001b[1;32m   1548\u001b[0m                 \u001b[0mext\u001b[0m \u001b[0;34m=\u001b[0m \u001b[0;34m\"xls\"\u001b[0m\u001b[0;34m\u001b[0m\u001b[0;34m\u001b[0m\u001b[0m\n\u001b[1;32m   1549\u001b[0m             \u001b[0;32melse\u001b[0m\u001b[0;34m:\u001b[0m\u001b[0;34m\u001b[0m\u001b[0;34m\u001b[0m\u001b[0m\n\u001b[0;32m-> 1550\u001b[0;31m                 ext = inspect_excel_format(\n\u001b[0m\u001b[1;32m   1551\u001b[0m                     \u001b[0mcontent_or_path\u001b[0m\u001b[0;34m=\u001b[0m\u001b[0mpath_or_buffer\u001b[0m\u001b[0;34m,\u001b[0m \u001b[0mstorage_options\u001b[0m\u001b[0;34m=\u001b[0m\u001b[0mstorage_options\u001b[0m\u001b[0;34m\u001b[0m\u001b[0;34m\u001b[0m\u001b[0m\n\u001b[1;32m   1552\u001b[0m                 )\n",
            "\u001b[0;32m/usr/local/lib/python3.10/dist-packages/pandas/io/excel/_base.py\u001b[0m in \u001b[0;36minspect_excel_format\u001b[0;34m(content_or_path, storage_options)\u001b[0m\n\u001b[1;32m   1400\u001b[0m         \u001b[0mcontent_or_path\u001b[0m \u001b[0;34m=\u001b[0m \u001b[0mBytesIO\u001b[0m\u001b[0;34m(\u001b[0m\u001b[0mcontent_or_path\u001b[0m\u001b[0;34m)\u001b[0m\u001b[0;34m\u001b[0m\u001b[0;34m\u001b[0m\u001b[0m\n\u001b[1;32m   1401\u001b[0m \u001b[0;34m\u001b[0m\u001b[0m\n\u001b[0;32m-> 1402\u001b[0;31m     with get_handle(\n\u001b[0m\u001b[1;32m   1403\u001b[0m         \u001b[0mcontent_or_path\u001b[0m\u001b[0;34m,\u001b[0m \u001b[0;34m\"rb\"\u001b[0m\u001b[0;34m,\u001b[0m \u001b[0mstorage_options\u001b[0m\u001b[0;34m=\u001b[0m\u001b[0mstorage_options\u001b[0m\u001b[0;34m,\u001b[0m \u001b[0mis_text\u001b[0m\u001b[0;34m=\u001b[0m\u001b[0;32mFalse\u001b[0m\u001b[0;34m\u001b[0m\u001b[0;34m\u001b[0m\u001b[0m\n\u001b[1;32m   1404\u001b[0m     ) as handle:\n",
            "\u001b[0;32m/usr/local/lib/python3.10/dist-packages/pandas/io/common.py\u001b[0m in \u001b[0;36mget_handle\u001b[0;34m(path_or_buf, mode, encoding, compression, memory_map, is_text, errors, storage_options)\u001b[0m\n\u001b[1;32m    880\u001b[0m         \u001b[0;32melse\u001b[0m\u001b[0;34m:\u001b[0m\u001b[0;34m\u001b[0m\u001b[0;34m\u001b[0m\u001b[0m\n\u001b[1;32m    881\u001b[0m             \u001b[0;31m# Binary mode\u001b[0m\u001b[0;34m\u001b[0m\u001b[0;34m\u001b[0m\u001b[0m\n\u001b[0;32m--> 882\u001b[0;31m             \u001b[0mhandle\u001b[0m \u001b[0;34m=\u001b[0m \u001b[0mopen\u001b[0m\u001b[0;34m(\u001b[0m\u001b[0mhandle\u001b[0m\u001b[0;34m,\u001b[0m \u001b[0mioargs\u001b[0m\u001b[0;34m.\u001b[0m\u001b[0mmode\u001b[0m\u001b[0;34m)\u001b[0m\u001b[0;34m\u001b[0m\u001b[0;34m\u001b[0m\u001b[0m\n\u001b[0m\u001b[1;32m    883\u001b[0m         \u001b[0mhandles\u001b[0m\u001b[0;34m.\u001b[0m\u001b[0mappend\u001b[0m\u001b[0;34m(\u001b[0m\u001b[0mhandle\u001b[0m\u001b[0;34m)\u001b[0m\u001b[0;34m\u001b[0m\u001b[0;34m\u001b[0m\u001b[0m\n\u001b[1;32m    884\u001b[0m \u001b[0;34m\u001b[0m\u001b[0m\n",
            "\u001b[0;31mFileNotFoundError\u001b[0m: [Errno 2] No such file or directory: '/content/feriados.xlsx'"
          ]
        }
      ]
    },
    {
      "cell_type": "code",
      "source": [
        "df = pd.read_excel('/content/lf secun python cdi +.xlsx')\n",
        "df"
      ],
      "metadata": {
        "id": "rDbPSjGiChvG"
      },
      "execution_count": null,
      "outputs": []
    },
    {
      "cell_type": "code",
      "source": [
        "data_operação = input(\"Qual a data da operação (aaaa-mm-dd)? \")"
      ],
      "metadata": {
        "id": "e10Wx6eVDdho"
      },
      "execution_count": null,
      "outputs": []
    },
    {
      "cell_type": "code",
      "source": [
        "data_str = data_operação\n",
        "data = datetime.strptime(data_str, '%Y-%m-%d')\n",
        "data_menos_um_dia = data - timedelta(days=1)\n",
        "\n",
        "# Converta o resultado de volta para o formato desejado\n",
        "data_menos_um_dia_operação = data_menos_um_dia.strftime('%Y-%m-%d')\n",
        "data_menos_um_dia_operação"
      ],
      "metadata": {
        "id": "NCWVbYxGD2j1"
      },
      "execution_count": null,
      "outputs": []
    },
    {
      "cell_type": "code",
      "source": [
        "data1 = pd.to_datetime(df['Data Vencimento'])\n",
        "data2 = pd.to_datetime(data_operação)\n",
        "df['dias_venc'] = (data1 - data2)\n",
        "df['dias_venc'] = (df['dias_venc'].dt.days)-1\n"
      ],
      "metadata": {
        "id": "JfLI9X2F63yi"
      },
      "execution_count": null,
      "outputs": []
    },
    {
      "cell_type": "code",
      "source": [
        "data_cdi = sgs.get(('CDI', 12), last=3000)\n",
        "data_cdi = data_cdi['CDI']\n",
        "data_cdi"
      ],
      "metadata": {
        "id": "Onop2f-lznEn"
      },
      "execution_count": null,
      "outputs": []
    },
    {
      "cell_type": "code",
      "source": [
        "di_per_list = []\n",
        "\n",
        "for a, b in zip(df['Data Emissão'], df['Taxa de Emissão']):\n",
        "    data_filt = data_cdi.loc[a:data_menos_um_dia_operação]\n",
        "    di = ((data_filt/100)+1)*((1+b)**(1/252))\n",
        "    di_per = di.product()\n",
        "    di_per_list.append(di_per)\n",
        "\n",
        "df['di_acum'] = di_per_list"
      ],
      "metadata": {
        "id": "NkfY8S-gJVJT"
      },
      "execution_count": null,
      "outputs": []
    },
    {
      "cell_type": "code",
      "source": [
        "# URL da página\n",
        "url = 'https://www2.bmf.com.br/pages/portal/bmfbovespa/boletim1/TxRef1.asp'\n",
        "\n",
        "# Realiza a solicitação HTTP\n",
        "response = requests.get(url)\n",
        "\n",
        "# Verifica se a solicitação foi bem-sucedida (código de status 200)\n",
        "if response.status_code == 200:\n",
        "    # Lê a tabela HTML diretamente usando o pandas\n",
        "    dfs = pd.read_html(response.text, flavor='bs4')  # 'bs4' indica o uso do BeautifulSoup para análise HTML\n",
        "\n",
        "    # O resultado será uma lista de DataFrames, onde cada DataFrame representa uma tabela na página\n",
        "    # Dependendo da página, você pode precisar procurar qual DataFrame contém os dados desejados\n",
        "    for i, b in enumerate(dfs):\n",
        "        print(f\"DataFrame {i + 1}:\\n{b}\")\n",
        "else:\n",
        "    print(f\"Falha na solicitação. Código de status: {response.status_code}\")\n",
        "\n",
        "di_tabela = dfs[2]\n",
        "di_tabela = di_tabela.set_index(0)\n",
        "di_tabela = di_tabela.iloc[2:]\n",
        "di_tabela = di_tabela[1]\n",
        "di_tabela = di_tabela.astype(float)\n",
        "di_tabela.index = di_tabela.index.astype(int)\n",
        "di_tabela = di_tabela/100\n"
      ],
      "metadata": {
        "id": "Pi582wEg8f-b"
      },
      "execution_count": null,
      "outputs": []
    },
    {
      "cell_type": "code",
      "source": [
        "df_di_tabela = pd.DataFrame(di_tabela)\n"
      ],
      "metadata": {
        "id": "psk2FlbBDBdq"
      },
      "execution_count": null,
      "outputs": []
    },
    {
      "cell_type": "code",
      "source": [
        "def interpolar_valor(df, x):\n",
        "  # Encontrar a linha na tabela onde o valor X está presente ou próximo.\n",
        "  linha = df.index[df.index <= x].max()\n",
        "\n",
        "  # Se o valor X já estiver presente na tabela DI, retornar o valor correspondente.\n",
        "  if linha == x:\n",
        "    return round(df.loc[linha,1],2)\n",
        "\n",
        "  # Se o valor X não estiver presente na tabela DI, interpolar.\n",
        "  if linha != x:\n",
        "    di_anterior = df_di_tabela.loc[linha,1]\n",
        "    posicao = df_di_tabela.index.get_loc(linha)\n",
        "    # Obter o próximo índice\n",
        "    proximo_indice = posicao + 1\n",
        "    di_prox = df_di_tabela[1].iloc[proximo_indice]\n",
        "    prox_num_dias_di = df_di_tabela.index[proximo_indice]\n",
        "    interpolação = di_anterior + (x-linha) * ((di_prox-di_anterior) / (prox_num_dias_di-linha))\n",
        "    return round(interpolação,2)\n",
        "\n",
        "  return 0"
      ],
      "metadata": {
        "id": "_4SHz1vXDFd1"
      },
      "execution_count": null,
      "outputs": []
    },
    {
      "cell_type": "code",
      "source": [
        "di_dia_list = []\n",
        "\n",
        "for a in df['dias_venc']:\n",
        "  tx_di = interpolar_valor(df_di_tabela, a) /100\n",
        "  di_dia_list.append(tx_di)\n",
        "\n",
        "df['di_dia'] = di_dia_list\n",
        "df['pu_par'] = df['PU Inicial'] * df['di_acum']\n"
      ],
      "metadata": {
        "id": "0hprDw29LafV"
      },
      "execution_count": null,
      "outputs": []
    },
    {
      "cell_type": "code",
      "source": [
        "num_dias_uteis = []\n",
        "\n",
        "for a in df['Data Emissão']:\n",
        "    datas = pd.date_range(start=a, end=data_operação, freq='B')\n",
        "    dias_uteis = datas[~datas.isin(feriados)]\n",
        "    dias_uteis_b = len(dias_uteis)-1\n",
        "    num_dias_uteis.append(dias_uteis_b)\n",
        "\n",
        "\n",
        "df['num_dias_uteis'] = num_dias_uteis\n",
        "num_dias_uteis_oper_venc = []\n",
        "\n",
        "for a in df['Data Vencimento']:\n",
        "    datas = pd.date_range(start=data_operação, end=a, freq='B')\n",
        "    dias_uteis = datas[~datas.isin(feriados)]\n",
        "    dias_uteis_b = len(dias_uteis)-1\n",
        "    num_dias_uteis_oper_venc.append(dias_uteis_b)\n",
        "\n",
        "\n",
        "df['num_dias_uteis_oper'] = num_dias_uteis_oper_venc\n"
      ],
      "metadata": {
        "id": "WQR7siYiPS3r"
      },
      "execution_count": null,
      "outputs": []
    },
    {
      "cell_type": "code",
      "source": [
        "df['di_int_acum'] =((((1+df['di_dia'])**(1/252))*((1+df['Taxa de Emissão'])**(1/252)))**(252))-1\n",
        "df['di_int_acum_2'] = +(1+df['di_int_acum'])**(df['num_dias_uteis_oper']/252)-1\n",
        "df['neg_di_acum']=((((1+df['Taxa de Venda'])**(1/252))*((1+df['di_dia'])**(1/252)))**(252))-1\n",
        "df['neg_di_acum_2'] =+(1+df['neg_di_acum'])**(df['num_dias_uteis_oper']/252)-1\n",
        "df['vf'] = (df['di_int_acum_2']+1) * df['pu_par']\n",
        "df['pu_final'] = df['vf'] / (1+ df['neg_di_acum_2'])"
      ],
      "metadata": {
        "id": "If2Ay38NHwkz"
      },
      "execution_count": null,
      "outputs": []
    },
    {
      "cell_type": "code",
      "source": [
        "df_filtro = df[['Tipo Aplic.', 'Data Inicial', 'Emissor', 'Banco',\n",
        "       'Valor Inicial', 'Taxa COMPRA', 'Transação', 'Titulo',\n",
        "       'Data Emissão', 'Data Vencimento', 'PU Inicial', 'Taxa de Emissão', 'Taxa de Venda','pu_final','Quantidade']]"
      ],
      "metadata": {
        "id": "J4go7cU3Ep7a"
      },
      "execution_count": null,
      "outputs": []
    },
    {
      "cell_type": "code",
      "source": [
        "df_filtro"
      ],
      "metadata": {
        "id": "jFVJMveBFXSJ"
      },
      "execution_count": null,
      "outputs": []
    },
    {
      "cell_type": "code",
      "source": [
        "carteira = pd.read_excel('/content/Carteira.xlsm')\n",
        "carteira"
      ],
      "metadata": {
        "id": "QkkLOykEu23w"
      },
      "execution_count": null,
      "outputs": []
    },
    {
      "cell_type": "code",
      "source": [
        "resultado = pd.merge(df_filtro, carteira[['Transação','Valor Aplicado']], on='Transação', how='left')\n",
        "resultado['Valor Mercado'] = resultado['pu_final'] * resultado['Quantidade']\n",
        "resultado['Ganho/Perda'] = resultado['Valor Mercado'] - resultado['Valor Aplicado']\n",
        "resultado['Ganho/Perda %'] = resultado['Ganho/Perda'] / resultado['Valor Aplicado']\n",
        "resultado"
      ],
      "metadata": {
        "id": "fB3jgIOiv_cS"
      },
      "execution_count": null,
      "outputs": []
    },
    {
      "cell_type": "code",
      "source": [
        "nome_arquivo_excel2 = 'LF_cdi+.xlsx'\n",
        "resultado.to_excel(nome_arquivo_excel2, index=False)"
      ],
      "metadata": {
        "id": "UpdAnbeMv_XA"
      },
      "execution_count": null,
      "outputs": []
    },
    {
      "cell_type": "code",
      "source": [
        "# Fazer o download do arquivo Excel\n",
        "files.download(nome_arquivo_excel2)"
      ],
      "metadata": {
        "id": "CCXtBWtpnmLT"
      },
      "execution_count": null,
      "outputs": []
    },
    {
      "cell_type": "code",
      "source": [],
      "metadata": {
        "id": "maBWke7JSGYf"
      },
      "execution_count": null,
      "outputs": []
    }
  ]
}