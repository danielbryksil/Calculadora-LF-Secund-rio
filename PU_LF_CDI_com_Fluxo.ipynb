{
  "cells": [
    {
      "cell_type": "markdown",
      "metadata": {
        "id": "view-in-github",
        "colab_type": "text"
      },
      "source": [
        "<a href=\"https://colab.research.google.com/github/danielbryksil/Calculadora-LF-Secund-rio/blob/main/PU_LF_CDI_com_Fluxo.ipynb\" target=\"_parent\"><img src=\"https://colab.research.google.com/assets/colab-badge.svg\" alt=\"Open In Colab\"/></a>"
      ]
    },
    {
      "cell_type": "markdown",
      "metadata": {
        "id": "DhWLLHGZdr9d"
      },
      "source": [
        "## PU % CDI com Fluxo\n"
      ]
    },
    {
      "cell_type": "code",
      "execution_count": null,
      "metadata": {
        "colab": {
          "base_uri": "https://localhost:8080/"
        },
        "id": "oCo0kJHlBixi",
        "outputId": "8d3495bf-c1d7-444d-a0f4-cbd8165786dc"
      },
      "outputs": [
        {
          "output_type": "stream",
          "name": "stdout",
          "text": [
            "Requirement already satisfied: python-bcb in /usr/local/lib/python3.10/dist-packages (0.2.0)\n",
            "Requirement already satisfied: httpx<0.25.0,>=0.24.0 in /usr/local/lib/python3.10/dist-packages (from python-bcb) (0.24.1)\n",
            "Requirement already satisfied: lxml<5.0.0,>=4.9.2 in /usr/local/lib/python3.10/dist-packages (from python-bcb) (4.9.4)\n",
            "Requirement already satisfied: pandas<3.0.0,>=2.0.0 in /usr/local/lib/python3.10/dist-packages (from python-bcb) (2.2.0)\n",
            "Requirement already satisfied: requests<3.0.0,>=2.31.0 in /usr/local/lib/python3.10/dist-packages (from python-bcb) (2.31.0)\n",
            "Requirement already satisfied: certifi in /usr/local/lib/python3.10/dist-packages (from httpx<0.25.0,>=0.24.0->python-bcb) (2024.2.2)\n",
            "Requirement already satisfied: httpcore<0.18.0,>=0.15.0 in /usr/local/lib/python3.10/dist-packages (from httpx<0.25.0,>=0.24.0->python-bcb) (0.17.3)\n",
            "Requirement already satisfied: idna in /usr/local/lib/python3.10/dist-packages (from httpx<0.25.0,>=0.24.0->python-bcb) (3.6)\n",
            "Requirement already satisfied: sniffio in /usr/local/lib/python3.10/dist-packages (from httpx<0.25.0,>=0.24.0->python-bcb) (1.3.0)\n",
            "Requirement already satisfied: numpy<2,>=1.22.4 in /usr/local/lib/python3.10/dist-packages (from pandas<3.0.0,>=2.0.0->python-bcb) (1.25.2)\n",
            "Requirement already satisfied: python-dateutil>=2.8.2 in /usr/local/lib/python3.10/dist-packages (from pandas<3.0.0,>=2.0.0->python-bcb) (2.8.2)\n",
            "Requirement already satisfied: pytz>=2020.1 in /usr/local/lib/python3.10/dist-packages (from pandas<3.0.0,>=2.0.0->python-bcb) (2023.4)\n",
            "Requirement already satisfied: tzdata>=2022.7 in /usr/local/lib/python3.10/dist-packages (from pandas<3.0.0,>=2.0.0->python-bcb) (2024.1)\n",
            "Requirement already satisfied: charset-normalizer<4,>=2 in /usr/local/lib/python3.10/dist-packages (from requests<3.0.0,>=2.31.0->python-bcb) (3.3.2)\n",
            "Requirement already satisfied: urllib3<3,>=1.21.1 in /usr/local/lib/python3.10/dist-packages (from requests<3.0.0,>=2.31.0->python-bcb) (2.0.7)\n",
            "Requirement already satisfied: h11<0.15,>=0.13 in /usr/local/lib/python3.10/dist-packages (from httpcore<0.18.0,>=0.15.0->httpx<0.25.0,>=0.24.0->python-bcb) (0.14.0)\n",
            "Requirement already satisfied: anyio<5.0,>=3.0 in /usr/local/lib/python3.10/dist-packages (from httpcore<0.18.0,>=0.15.0->httpx<0.25.0,>=0.24.0->python-bcb) (3.7.1)\n",
            "Requirement already satisfied: six>=1.5 in /usr/local/lib/python3.10/dist-packages (from python-dateutil>=2.8.2->pandas<3.0.0,>=2.0.0->python-bcb) (1.16.0)\n",
            "Requirement already satisfied: exceptiongroup in /usr/local/lib/python3.10/dist-packages (from anyio<5.0,>=3.0->httpcore<0.18.0,>=0.15.0->httpx<0.25.0,>=0.24.0->python-bcb) (1.2.0)\n",
            "Requirement already satisfied: pandas_market_calendars in /usr/local/lib/python3.10/dist-packages (4.4.0)\n",
            "Requirement already satisfied: pandas>=1.1 in /usr/local/lib/python3.10/dist-packages (from pandas_market_calendars) (2.2.0)\n",
            "Requirement already satisfied: pytz in /usr/local/lib/python3.10/dist-packages (from pandas_market_calendars) (2023.4)\n",
            "Requirement already satisfied: python-dateutil in /usr/local/lib/python3.10/dist-packages (from pandas_market_calendars) (2.8.2)\n",
            "Requirement already satisfied: exchange-calendars>=3.3 in /usr/local/lib/python3.10/dist-packages (from pandas_market_calendars) (4.5.3)\n",
            "Requirement already satisfied: numpy<2 in /usr/local/lib/python3.10/dist-packages (from exchange-calendars>=3.3->pandas_market_calendars) (1.25.2)\n",
            "Requirement already satisfied: pyluach in /usr/local/lib/python3.10/dist-packages (from exchange-calendars>=3.3->pandas_market_calendars) (2.2.0)\n",
            "Requirement already satisfied: toolz in /usr/local/lib/python3.10/dist-packages (from exchange-calendars>=3.3->pandas_market_calendars) (0.12.1)\n",
            "Requirement already satisfied: tzdata in /usr/local/lib/python3.10/dist-packages (from exchange-calendars>=3.3->pandas_market_calendars) (2024.1)\n",
            "Requirement already satisfied: korean-lunar-calendar in /usr/local/lib/python3.10/dist-packages (from exchange-calendars>=3.3->pandas_market_calendars) (0.3.1)\n",
            "Requirement already satisfied: six>=1.5 in /usr/local/lib/python3.10/dist-packages (from python-dateutil->pandas_market_calendars) (1.16.0)\n"
          ]
        }
      ],
      "source": [
        "!pip install python-bcb\n",
        "!pip install pandas_market_calendars"
      ]
    },
    {
      "cell_type": "code",
      "execution_count": null,
      "metadata": {
        "id": "YGHR8WvsbX5p"
      },
      "outputs": [],
      "source": [
        "from datetime import datetime\n",
        "import pandas as pd\n",
        "from bcb import sgs\n",
        "import numpy as np\n",
        "from datetime import datetime, timedelta"
      ]
    },
    {
      "cell_type": "code",
      "execution_count": null,
      "metadata": {
        "id": "9RPypp-4jWKh"
      },
      "outputs": [],
      "source": [
        "dados_excel = pd.read_excel('/content/feriados.xlsx')\n",
        "feriados = dados_excel['2001-01-01'].tolist()"
      ]
    },
    {
      "cell_type": "code",
      "execution_count": null,
      "metadata": {
        "colab": {
          "base_uri": "https://localhost:8080/",
          "height": 269
        },
        "id": "L0t57kZGiY2h",
        "outputId": "33da7bc6-d71b-4388-87b5-8121161a3faf"
      },
      "outputs": [
        {
          "output_type": "execute_result",
          "data": {
            "text/plain": [
              "        data  amortização\n",
              "0 2024-04-09            0\n",
              "1 2024-10-09            0\n",
              "2 2025-04-09            0\n",
              "3 2025-10-09            0\n",
              "4 2026-04-09            0\n",
              "5 2026-10-09            0\n",
              "6 2027-04-09       500000"
            ],
            "text/html": [
              "\n",
              "  <div id=\"df-7488f3cf-5025-4ad7-807c-090d1f596f50\" class=\"colab-df-container\">\n",
              "    <div>\n",
              "<style scoped>\n",
              "    .dataframe tbody tr th:only-of-type {\n",
              "        vertical-align: middle;\n",
              "    }\n",
              "\n",
              "    .dataframe tbody tr th {\n",
              "        vertical-align: top;\n",
              "    }\n",
              "\n",
              "    .dataframe thead th {\n",
              "        text-align: right;\n",
              "    }\n",
              "</style>\n",
              "<table border=\"1\" class=\"dataframe\">\n",
              "  <thead>\n",
              "    <tr style=\"text-align: right;\">\n",
              "      <th></th>\n",
              "      <th>data</th>\n",
              "      <th>amortização</th>\n",
              "    </tr>\n",
              "  </thead>\n",
              "  <tbody>\n",
              "    <tr>\n",
              "      <th>0</th>\n",
              "      <td>2024-04-09</td>\n",
              "      <td>0</td>\n",
              "    </tr>\n",
              "    <tr>\n",
              "      <th>1</th>\n",
              "      <td>2024-10-09</td>\n",
              "      <td>0</td>\n",
              "    </tr>\n",
              "    <tr>\n",
              "      <th>2</th>\n",
              "      <td>2025-04-09</td>\n",
              "      <td>0</td>\n",
              "    </tr>\n",
              "    <tr>\n",
              "      <th>3</th>\n",
              "      <td>2025-10-09</td>\n",
              "      <td>0</td>\n",
              "    </tr>\n",
              "    <tr>\n",
              "      <th>4</th>\n",
              "      <td>2026-04-09</td>\n",
              "      <td>0</td>\n",
              "    </tr>\n",
              "    <tr>\n",
              "      <th>5</th>\n",
              "      <td>2026-10-09</td>\n",
              "      <td>0</td>\n",
              "    </tr>\n",
              "    <tr>\n",
              "      <th>6</th>\n",
              "      <td>2027-04-09</td>\n",
              "      <td>500000</td>\n",
              "    </tr>\n",
              "  </tbody>\n",
              "</table>\n",
              "</div>\n",
              "    <div class=\"colab-df-buttons\">\n",
              "\n",
              "  <div class=\"colab-df-container\">\n",
              "    <button class=\"colab-df-convert\" onclick=\"convertToInteractive('df-7488f3cf-5025-4ad7-807c-090d1f596f50')\"\n",
              "            title=\"Convert this dataframe to an interactive table.\"\n",
              "            style=\"display:none;\">\n",
              "\n",
              "  <svg xmlns=\"http://www.w3.org/2000/svg\" height=\"24px\" viewBox=\"0 -960 960 960\">\n",
              "    <path d=\"M120-120v-720h720v720H120Zm60-500h600v-160H180v160Zm220 220h160v-160H400v160Zm0 220h160v-160H400v160ZM180-400h160v-160H180v160Zm440 0h160v-160H620v160ZM180-180h160v-160H180v160Zm440 0h160v-160H620v160Z\"/>\n",
              "  </svg>\n",
              "    </button>\n",
              "\n",
              "  <style>\n",
              "    .colab-df-container {\n",
              "      display:flex;\n",
              "      gap: 12px;\n",
              "    }\n",
              "\n",
              "    .colab-df-convert {\n",
              "      background-color: #E8F0FE;\n",
              "      border: none;\n",
              "      border-radius: 50%;\n",
              "      cursor: pointer;\n",
              "      display: none;\n",
              "      fill: #1967D2;\n",
              "      height: 32px;\n",
              "      padding: 0 0 0 0;\n",
              "      width: 32px;\n",
              "    }\n",
              "\n",
              "    .colab-df-convert:hover {\n",
              "      background-color: #E2EBFA;\n",
              "      box-shadow: 0px 1px 2px rgba(60, 64, 67, 0.3), 0px 1px 3px 1px rgba(60, 64, 67, 0.15);\n",
              "      fill: #174EA6;\n",
              "    }\n",
              "\n",
              "    .colab-df-buttons div {\n",
              "      margin-bottom: 4px;\n",
              "    }\n",
              "\n",
              "    [theme=dark] .colab-df-convert {\n",
              "      background-color: #3B4455;\n",
              "      fill: #D2E3FC;\n",
              "    }\n",
              "\n",
              "    [theme=dark] .colab-df-convert:hover {\n",
              "      background-color: #434B5C;\n",
              "      box-shadow: 0px 1px 3px 1px rgba(0, 0, 0, 0.15);\n",
              "      filter: drop-shadow(0px 1px 2px rgba(0, 0, 0, 0.3));\n",
              "      fill: #FFFFFF;\n",
              "    }\n",
              "  </style>\n",
              "\n",
              "    <script>\n",
              "      const buttonEl =\n",
              "        document.querySelector('#df-7488f3cf-5025-4ad7-807c-090d1f596f50 button.colab-df-convert');\n",
              "      buttonEl.style.display =\n",
              "        google.colab.kernel.accessAllowed ? 'block' : 'none';\n",
              "\n",
              "      async function convertToInteractive(key) {\n",
              "        const element = document.querySelector('#df-7488f3cf-5025-4ad7-807c-090d1f596f50');\n",
              "        const dataTable =\n",
              "          await google.colab.kernel.invokeFunction('convertToInteractive',\n",
              "                                                    [key], {});\n",
              "        if (!dataTable) return;\n",
              "\n",
              "        const docLinkHtml = 'Like what you see? Visit the ' +\n",
              "          '<a target=\"_blank\" href=https://colab.research.google.com/notebooks/data_table.ipynb>data table notebook</a>'\n",
              "          + ' to learn more about interactive tables.';\n",
              "        element.innerHTML = '';\n",
              "        dataTable['output_type'] = 'display_data';\n",
              "        await google.colab.output.renderOutput(dataTable, element);\n",
              "        const docLink = document.createElement('div');\n",
              "        docLink.innerHTML = docLinkHtml;\n",
              "        element.appendChild(docLink);\n",
              "      }\n",
              "    </script>\n",
              "  </div>\n",
              "\n",
              "\n",
              "<div id=\"df-535194f4-c23f-418c-b1f1-426094540dff\">\n",
              "  <button class=\"colab-df-quickchart\" onclick=\"quickchart('df-535194f4-c23f-418c-b1f1-426094540dff')\"\n",
              "            title=\"Suggest charts\"\n",
              "            style=\"display:none;\">\n",
              "\n",
              "<svg xmlns=\"http://www.w3.org/2000/svg\" height=\"24px\"viewBox=\"0 0 24 24\"\n",
              "     width=\"24px\">\n",
              "    <g>\n",
              "        <path d=\"M19 3H5c-1.1 0-2 .9-2 2v14c0 1.1.9 2 2 2h14c1.1 0 2-.9 2-2V5c0-1.1-.9-2-2-2zM9 17H7v-7h2v7zm4 0h-2V7h2v10zm4 0h-2v-4h2v4z\"/>\n",
              "    </g>\n",
              "</svg>\n",
              "  </button>\n",
              "\n",
              "<style>\n",
              "  .colab-df-quickchart {\n",
              "      --bg-color: #E8F0FE;\n",
              "      --fill-color: #1967D2;\n",
              "      --hover-bg-color: #E2EBFA;\n",
              "      --hover-fill-color: #174EA6;\n",
              "      --disabled-fill-color: #AAA;\n",
              "      --disabled-bg-color: #DDD;\n",
              "  }\n",
              "\n",
              "  [theme=dark] .colab-df-quickchart {\n",
              "      --bg-color: #3B4455;\n",
              "      --fill-color: #D2E3FC;\n",
              "      --hover-bg-color: #434B5C;\n",
              "      --hover-fill-color: #FFFFFF;\n",
              "      --disabled-bg-color: #3B4455;\n",
              "      --disabled-fill-color: #666;\n",
              "  }\n",
              "\n",
              "  .colab-df-quickchart {\n",
              "    background-color: var(--bg-color);\n",
              "    border: none;\n",
              "    border-radius: 50%;\n",
              "    cursor: pointer;\n",
              "    display: none;\n",
              "    fill: var(--fill-color);\n",
              "    height: 32px;\n",
              "    padding: 0;\n",
              "    width: 32px;\n",
              "  }\n",
              "\n",
              "  .colab-df-quickchart:hover {\n",
              "    background-color: var(--hover-bg-color);\n",
              "    box-shadow: 0 1px 2px rgba(60, 64, 67, 0.3), 0 1px 3px 1px rgba(60, 64, 67, 0.15);\n",
              "    fill: var(--button-hover-fill-color);\n",
              "  }\n",
              "\n",
              "  .colab-df-quickchart-complete:disabled,\n",
              "  .colab-df-quickchart-complete:disabled:hover {\n",
              "    background-color: var(--disabled-bg-color);\n",
              "    fill: var(--disabled-fill-color);\n",
              "    box-shadow: none;\n",
              "  }\n",
              "\n",
              "  .colab-df-spinner {\n",
              "    border: 2px solid var(--fill-color);\n",
              "    border-color: transparent;\n",
              "    border-bottom-color: var(--fill-color);\n",
              "    animation:\n",
              "      spin 1s steps(1) infinite;\n",
              "  }\n",
              "\n",
              "  @keyframes spin {\n",
              "    0% {\n",
              "      border-color: transparent;\n",
              "      border-bottom-color: var(--fill-color);\n",
              "      border-left-color: var(--fill-color);\n",
              "    }\n",
              "    20% {\n",
              "      border-color: transparent;\n",
              "      border-left-color: var(--fill-color);\n",
              "      border-top-color: var(--fill-color);\n",
              "    }\n",
              "    30% {\n",
              "      border-color: transparent;\n",
              "      border-left-color: var(--fill-color);\n",
              "      border-top-color: var(--fill-color);\n",
              "      border-right-color: var(--fill-color);\n",
              "    }\n",
              "    40% {\n",
              "      border-color: transparent;\n",
              "      border-right-color: var(--fill-color);\n",
              "      border-top-color: var(--fill-color);\n",
              "    }\n",
              "    60% {\n",
              "      border-color: transparent;\n",
              "      border-right-color: var(--fill-color);\n",
              "    }\n",
              "    80% {\n",
              "      border-color: transparent;\n",
              "      border-right-color: var(--fill-color);\n",
              "      border-bottom-color: var(--fill-color);\n",
              "    }\n",
              "    90% {\n",
              "      border-color: transparent;\n",
              "      border-bottom-color: var(--fill-color);\n",
              "    }\n",
              "  }\n",
              "</style>\n",
              "\n",
              "  <script>\n",
              "    async function quickchart(key) {\n",
              "      const quickchartButtonEl =\n",
              "        document.querySelector('#' + key + ' button');\n",
              "      quickchartButtonEl.disabled = true;  // To prevent multiple clicks.\n",
              "      quickchartButtonEl.classList.add('colab-df-spinner');\n",
              "      try {\n",
              "        const charts = await google.colab.kernel.invokeFunction(\n",
              "            'suggestCharts', [key], {});\n",
              "      } catch (error) {\n",
              "        console.error('Error during call to suggestCharts:', error);\n",
              "      }\n",
              "      quickchartButtonEl.classList.remove('colab-df-spinner');\n",
              "      quickchartButtonEl.classList.add('colab-df-quickchart-complete');\n",
              "    }\n",
              "    (() => {\n",
              "      let quickchartButtonEl =\n",
              "        document.querySelector('#df-535194f4-c23f-418c-b1f1-426094540dff button');\n",
              "      quickchartButtonEl.style.display =\n",
              "        google.colab.kernel.accessAllowed ? 'block' : 'none';\n",
              "    })();\n",
              "  </script>\n",
              "</div>\n",
              "\n",
              "  <div id=\"id_3ba8c93c-ac7a-40a4-8598-731564022e8c\">\n",
              "    <style>\n",
              "      .colab-df-generate {\n",
              "        background-color: #E8F0FE;\n",
              "        border: none;\n",
              "        border-radius: 50%;\n",
              "        cursor: pointer;\n",
              "        display: none;\n",
              "        fill: #1967D2;\n",
              "        height: 32px;\n",
              "        padding: 0 0 0 0;\n",
              "        width: 32px;\n",
              "      }\n",
              "\n",
              "      .colab-df-generate:hover {\n",
              "        background-color: #E2EBFA;\n",
              "        box-shadow: 0px 1px 2px rgba(60, 64, 67, 0.3), 0px 1px 3px 1px rgba(60, 64, 67, 0.15);\n",
              "        fill: #174EA6;\n",
              "      }\n",
              "\n",
              "      [theme=dark] .colab-df-generate {\n",
              "        background-color: #3B4455;\n",
              "        fill: #D2E3FC;\n",
              "      }\n",
              "\n",
              "      [theme=dark] .colab-df-generate:hover {\n",
              "        background-color: #434B5C;\n",
              "        box-shadow: 0px 1px 3px 1px rgba(0, 0, 0, 0.15);\n",
              "        filter: drop-shadow(0px 1px 2px rgba(0, 0, 0, 0.3));\n",
              "        fill: #FFFFFF;\n",
              "      }\n",
              "    </style>\n",
              "    <button class=\"colab-df-generate\" onclick=\"generateWithVariable('df_eventos')\"\n",
              "            title=\"Generate code using this dataframe.\"\n",
              "            style=\"display:none;\">\n",
              "\n",
              "  <svg xmlns=\"http://www.w3.org/2000/svg\" height=\"24px\"viewBox=\"0 0 24 24\"\n",
              "       width=\"24px\">\n",
              "    <path d=\"M7,19H8.4L18.45,9,17,7.55,7,17.6ZM5,21V16.75L18.45,3.32a2,2,0,0,1,2.83,0l1.4,1.43a1.91,1.91,0,0,1,.58,1.4,1.91,1.91,0,0,1-.58,1.4L9.25,21ZM18.45,9,17,7.55Zm-12,3A5.31,5.31,0,0,0,4.9,8.1,5.31,5.31,0,0,0,1,6.5,5.31,5.31,0,0,0,4.9,4.9,5.31,5.31,0,0,0,6.5,1,5.31,5.31,0,0,0,8.1,4.9,5.31,5.31,0,0,0,12,6.5,5.46,5.46,0,0,0,6.5,12Z\"/>\n",
              "  </svg>\n",
              "    </button>\n",
              "    <script>\n",
              "      (() => {\n",
              "      const buttonEl =\n",
              "        document.querySelector('#id_3ba8c93c-ac7a-40a4-8598-731564022e8c button.colab-df-generate');\n",
              "      buttonEl.style.display =\n",
              "        google.colab.kernel.accessAllowed ? 'block' : 'none';\n",
              "\n",
              "      buttonEl.onclick = () => {\n",
              "        google.colab.notebook.generateWithVariable('df_eventos');\n",
              "      }\n",
              "      })();\n",
              "    </script>\n",
              "  </div>\n",
              "\n",
              "    </div>\n",
              "  </div>\n"
            ],
            "application/vnd.google.colaboratory.intrinsic+json": {
              "type": "dataframe",
              "variable_name": "df_eventos",
              "summary": "{\n  \"name\": \"df_eventos\",\n  \"rows\": 7,\n  \"fields\": [\n    {\n      \"column\": \"data\",\n      \"properties\": {\n        \"dtype\": \"date\",\n        \"min\": \"2024-04-09 00:00:00\",\n        \"max\": \"2027-04-09 00:00:00\",\n        \"samples\": [\n          \"2024-04-09 00:00:00\",\n          \"2024-10-09 00:00:00\",\n          \"2026-10-09 00:00:00\"\n        ],\n        \"num_unique_values\": 7,\n        \"semantic_type\": \"\",\n        \"description\": \"\"\n      }\n    },\n    {\n      \"column\": \"amortiza\\u00e7\\u00e3o\",\n      \"properties\": {\n        \"dtype\": \"number\",\n        \"std\": 188982,\n        \"min\": 0,\n        \"max\": 500000,\n        \"samples\": [\n          500000,\n          0\n        ],\n        \"num_unique_values\": 2,\n        \"semantic_type\": \"\",\n        \"description\": \"\"\n      }\n    }\n  ]\n}"
            }
          },
          "metadata": {},
          "execution_count": 4
        }
      ],
      "source": [
        "df_eventos = pd.read_excel('/content/data.xlsx')\n",
        "df_eventos"
      ]
    },
    {
      "cell_type": "code",
      "execution_count": null,
      "metadata": {
        "colab": {
          "base_uri": "https://localhost:8080/"
        },
        "id": "gkvAgepKBgYo",
        "outputId": "8e1cb7e2-d956-44ff-eae9-bdaec9e3d21f"
      },
      "outputs": [
        {
          "name": "stdout",
          "output_type": "stream",
          "text": [
            "Qual a data da operação (aaaa-mm-dd)? 2024-02-20\n"
          ]
        }
      ],
      "source": [
        "data_operação = input(\"Qual a data da operação (aaaa-mm-dd)? \")"
      ]
    },
    {
      "cell_type": "code",
      "execution_count": null,
      "metadata": {
        "colab": {
          "base_uri": "https://localhost:8080/",
          "height": 35
        },
        "id": "NCWVbYxGD2j1",
        "outputId": "c6b75af1-d3e1-48bf-d74b-96c3a4fe0904"
      },
      "outputs": [
        {
          "output_type": "execute_result",
          "data": {
            "text/plain": [
              "'2024-02-19'"
            ],
            "application/vnd.google.colaboratory.intrinsic+json": {
              "type": "string"
            }
          },
          "metadata": {},
          "execution_count": 6
        }
      ],
      "source": [
        "data_str = data_operação\n",
        "\n",
        "# Converta a string para um objeto datetime\n",
        "data = datetime.strptime(data_str, '%Y-%m-%d')\n",
        "\n",
        "# Subtraia um dia usando timedelta\n",
        "data_menos_um_dia = data - timedelta(days=1)\n",
        "\n",
        "# Converta o resultado de volta para o formato desejado\n",
        "data_menos_um_dia_operação = data_menos_um_dia.strftime('%Y-%m-%d')\n",
        "data_menos_um_dia_operação"
      ]
    },
    {
      "cell_type": "code",
      "execution_count": null,
      "metadata": {
        "colab": {
          "base_uri": "https://localhost:8080/"
        },
        "id": "0zL2qw1KBgWV",
        "outputId": "30d63226-34f9-4dab-8efb-db7a8428b1ab"
      },
      "outputs": [
        {
          "name": "stdout",
          "output_type": "stream",
          "text": [
            "Qual a data do último pagamento de juros (aaaa-mm-dd)? 2023-10-09\n"
          ]
        }
      ],
      "source": [
        "data_ultimo_pagamento = input(\"Qual a data do último pagamento de juros (aaaa-mm-dd)? \")"
      ]
    },
    {
      "cell_type": "code",
      "execution_count": null,
      "metadata": {
        "colab": {
          "base_uri": "https://localhost:8080/"
        },
        "id": "SZdO6wMsBgQk",
        "outputId": "8d935c9c-f8d0-4c84-af6e-61fa46b0ca43"
      },
      "outputs": [
        {
          "name": "stdout",
          "output_type": "stream",
          "text": [
            "Qual o PU inicial? 500000\n"
          ]
        }
      ],
      "source": [
        "PU_inicial = float(input(\"Qual o PU inicial? \"))"
      ]
    },
    {
      "cell_type": "code",
      "execution_count": null,
      "metadata": {
        "colab": {
          "base_uri": "https://localhost:8080/"
        },
        "id": "a3F8YDjiBgOA",
        "outputId": "a5818034-fd50-43ac-cd09-1faca3bc1ba6"
      },
      "outputs": [
        {
          "name": "stdout",
          "output_type": "stream",
          "text": [
            "Qual a taxa de emissão?118\n"
          ]
        }
      ],
      "source": [
        "taxa_emissão = float(input(\"Qual a taxa de emissão?\"))\n",
        "\n",
        "taxa_emissão = taxa_emissão/100"
      ]
    },
    {
      "cell_type": "code",
      "execution_count": null,
      "metadata": {
        "colab": {
          "base_uri": "https://localhost:8080/"
        },
        "id": "UQG164tvL1la",
        "outputId": "bc7de6cb-1e79-4b33-b771-db02f7db2eda"
      },
      "outputs": [
        {
          "name": "stdout",
          "output_type": "stream",
          "text": [
            "Qual a taxa de negociação?112\n"
          ]
        }
      ],
      "source": [
        "tx_neg = float(input(\"Qual a taxa de negociação?\"))\n",
        "tx_neg = tx_neg /100"
      ]
    },
    {
      "cell_type": "code",
      "execution_count": null,
      "metadata": {
        "id": "eYS6fUDRjy2g"
      },
      "outputs": [],
      "source": [
        "df_eventos['dias'] = (df_eventos['data'] - datetime.strptime(data_operação, '%Y-%m-%d')).dt.days"
      ]
    },
    {
      "cell_type": "code",
      "execution_count": null,
      "metadata": {
        "colab": {
          "base_uri": "https://localhost:8080/"
        },
        "id": "Onop2f-lznEn",
        "outputId": "8ee3666e-9b59-4be7-c38e-57960e992b58"
      },
      "outputs": [
        {
          "output_type": "execute_result",
          "data": {
            "text/plain": [
              "Date\n",
              "2012-03-07    0.038622\n",
              "2012-03-08    0.036129\n",
              "2012-03-09    0.036056\n",
              "2012-03-12    0.035948\n",
              "2012-03-13    0.035875\n",
              "                ...   \n",
              "2024-02-09    0.041957\n",
              "2024-02-14    0.041957\n",
              "2024-02-15    0.041957\n",
              "2024-02-16    0.041957\n",
              "2024-02-19    0.041957\n",
              "Name: CDI, Length: 3000, dtype: float64"
            ]
          },
          "metadata": {},
          "execution_count": 12
        }
      ],
      "source": [
        "data_cdi = sgs.get(('CDI', 12), last=3000)\n",
        "data_cdi = data_cdi['CDI']\n",
        "data_cdi"
      ]
    },
    {
      "cell_type": "code",
      "execution_count": null,
      "metadata": {
        "colab": {
          "base_uri": "https://localhost:8080/"
        },
        "id": "siiFeOEB8XyO",
        "outputId": "aba46d89-3582-4a1f-8efc-ccb046c4c3dc"
      },
      "outputs": [
        {
          "output_type": "execute_result",
          "data": {
            "text/plain": [
              "Date\n",
              "2023-10-09    0.047279\n",
              "2023-10-10    0.047279\n",
              "2023-10-11    0.047279\n",
              "2023-10-13    0.047279\n",
              "2023-10-16    0.047279\n",
              "                ...   \n",
              "2024-02-09    0.041957\n",
              "2024-02-14    0.041957\n",
              "2024-02-15    0.041957\n",
              "2024-02-16    0.041957\n",
              "2024-02-19    0.041957\n",
              "Name: CDI, Length: 89, dtype: float64"
            ]
          },
          "metadata": {},
          "execution_count": 13
        }
      ],
      "source": [
        "data_filt = data_cdi.loc[data_ultimo_pagamento:data_menos_um_dia_operação]\n",
        "data_filt"
      ]
    },
    {
      "cell_type": "code",
      "execution_count": null,
      "metadata": {
        "colab": {
          "base_uri": "https://localhost:8080/"
        },
        "id": "Pi582wEg8f-b",
        "outputId": "aa5e7967-ec3c-4759-c229-2f059bd40581"
      },
      "outputs": [
        {
          "output_type": "stream",
          "name": "stderr",
          "text": [
            "<ipython-input-14-14070766bd13>:13: FutureWarning: Passing literal html to 'read_html' is deprecated and will be removed in a future version. To read from a literal string, wrap it in a 'StringIO' object.\n",
            "  dfs = pd.read_html(response.text, flavor='bs4')  # 'bs4' indica o uso do BeautifulSoup para análise HTML\n"
          ]
        },
        {
          "output_type": "stream",
          "name": "stdout",
          "text": [
            "DataFrame 1:\n",
            "                                                   0            1\n",
            "0                          Atualizado em: 19/02/2024  Retroativo:\n",
            "1  Taxa: Ajuste cupom  Alumínio  DI x Anbid  Anbi...          NaN\n",
            "DataFrame 2:\n",
            "                                                     0          1         2\n",
            "0    Dias Corridos DI x pré 252(2)(4) 360(1) 1 11,1...        NaN       NaN\n",
            "1                                        Dias Corridos   DI x pré  DI x pré\n",
            "2                                        Dias Corridos  252(2)(4)    360(1)\n",
            "3                                                    1       1115       000\n",
            "4                                                    7       1115      1139\n",
            "..                                                 ...        ...       ...\n",
            "258                                               9493       1082      1060\n",
            "259                                               9674       1082      1060\n",
            "260                                              10801       1082      1060\n",
            "261                                              11410       1082      1059\n",
            "262                                              13328       1082      1060\n",
            "\n",
            "[263 rows x 3 columns]\n",
            "DataFrame 3:\n",
            "                 0          1         2\n",
            "0    Dias Corridos   DI x pré  DI x pré\n",
            "1    Dias Corridos  252(2)(4)    360(1)\n",
            "2                1       1115       000\n",
            "3                7       1115      1139\n",
            "4                9       1115      1247\n",
            "..             ...        ...       ...\n",
            "257           9493       1082      1060\n",
            "258           9674       1082      1060\n",
            "259          10801       1082      1060\n",
            "260          11410       1082      1059\n",
            "261          13328       1082      1060\n",
            "\n",
            "[262 rows x 3 columns]\n",
            "DataFrame 4:\n",
            "                                                   0\n",
            "0  (1) Taxa efetiva para 360 dias corridos. (2) T...\n"
          ]
        }
      ],
      "source": [
        "import pandas as pd\n",
        "import requests\n",
        "\n",
        "# URL da página\n",
        "url = 'https://www2.bmf.com.br/pages/portal/bmfbovespa/boletim1/TxRef1.asp'\n",
        "\n",
        "# Realiza a solicitação HTTP\n",
        "response = requests.get(url)\n",
        "\n",
        "# Verifica se a solicitação foi bem-sucedida (código de status 200)\n",
        "if response.status_code == 200:\n",
        "    # Lê a tabela HTML diretamente usando o pandas\n",
        "    dfs = pd.read_html(response.text, flavor='bs4')  # 'bs4' indica o uso do BeautifulSoup para análise HTML\n",
        "\n",
        "    # O resultado será uma lista de DataFrames, onde cada DataFrame representa uma tabela na página\n",
        "    # Dependendo da página, você pode precisar procurar qual DataFrame contém os dados desejados\n",
        "    for i, df in enumerate(dfs):\n",
        "        print(f\"DataFrame {i + 1}:\\n{df}\")\n",
        "else:\n",
        "    print(f\"Falha na solicitação. Código de status: {response.status_code}\")"
      ]
    },
    {
      "cell_type": "code",
      "execution_count": null,
      "metadata": {
        "colab": {
          "base_uri": "https://localhost:8080/"
        },
        "id": "AsP8KrME8f7c",
        "outputId": "1c39fab5-855d-4339-d00c-3b0313e0b30e"
      },
      "outputs": [
        {
          "output_type": "execute_result",
          "data": {
            "text/plain": [
              "0\n",
              "1        11.15\n",
              "7        11.15\n",
              "9        11.15\n",
              "10       11.15\n",
              "11       11.15\n",
              "         ...  \n",
              "9493     10.82\n",
              "9674     10.82\n",
              "10801    10.82\n",
              "11410    10.82\n",
              "13328    10.82\n",
              "Name: 1, Length: 260, dtype: float64"
            ]
          },
          "metadata": {},
          "execution_count": 15
        }
      ],
      "source": [
        "di_tabela = dfs[2]\n",
        "di_tabela = di_tabela.set_index(0)\n",
        "di_tabela = di_tabela.iloc[2:]\n",
        "di_tabela = di_tabela[1]\n",
        "di_tabela = di_tabela.astype(float)\n",
        "di_tabela.index = di_tabela.index.astype(int)\n",
        "di_tabela = di_tabela/100\n",
        "di_tabela"
      ]
    },
    {
      "cell_type": "code",
      "execution_count": null,
      "metadata": {
        "id": "EQlHIg9bfBQT"
      },
      "outputs": [],
      "source": [
        "di_dia_list = []\n",
        "\n",
        "for a in df_eventos['dias']:\n",
        "    indice_mais_proximo = (di_tabela.index.to_series() - a).abs().idxmin()\n",
        "    tx_di = di_tabela.loc[indice_mais_proximo]\n",
        "    tx_di = tx_di/100\n",
        "    di_dia_list.append(tx_di)\n",
        "\n",
        "df_eventos['di_dia'] = di_dia_list\n"
      ]
    },
    {
      "cell_type": "code",
      "execution_count": null,
      "metadata": {
        "id": "PPkxtJDJfBNg"
      },
      "outputs": [],
      "source": [
        "num_dias_uteis = []\n",
        "\n",
        "for a in df_eventos['data']:\n",
        "    datas = pd.date_range(start=data_operação, end=a, freq='B')\n",
        "    dias_uteis = datas[~datas.isin(feriados)]\n",
        "    dias_uteis_b = len(dias_uteis)-1\n",
        "    num_dias_uteis.append(dias_uteis_b)\n",
        "\n",
        "\n",
        "df_eventos['num_dias_uteis'] = num_dias_uteis\n"
      ]
    },
    {
      "cell_type": "code",
      "execution_count": null,
      "metadata": {
        "id": "hT2q_eHxx6Cu"
      },
      "outputs": [],
      "source": [
        "lista1 = df_eventos['num_dias_uteis']\n",
        "lista1 = pd.concat([pd.Series([0]), lista1], ignore_index=True)\n",
        "df_eventos['num_dias_uteis_apoio'] = lista1[:-1]\n",
        "lista2 = df_eventos['di_dia']\n",
        "lista2 = pd.concat([pd.Series([0]), lista2], ignore_index=True)\n",
        "df_eventos['di_dia_apoio'] = lista2[:-1]"
      ]
    },
    {
      "cell_type": "code",
      "execution_count": null,
      "metadata": {
        "id": "t8eL7wNfzPOI"
      },
      "outputs": [],
      "source": [
        "df_eventos['fator'] = ((((1+df_eventos['di_dia'])**(1/252))-1)*taxa_emissão+1)**df_eventos['num_dias_uteis']/((((1+df_eventos['di_dia_apoio'])**(1/252))-1)*taxa_emissão+1)**df_eventos['num_dias_uteis_apoio']\n",
        "df_eventos['cupom'] = PU_inicial*(df_eventos['fator']-1)"
      ]
    },
    {
      "cell_type": "code",
      "execution_count": null,
      "metadata": {
        "colab": {
          "base_uri": "https://localhost:8080/"
        },
        "id": "OJtoLo9-EQVe",
        "outputId": "cce3b6b7-329d-4816-b0e8-4ffc9e013f7f"
      },
      "outputs": [
        {
          "output_type": "execute_result",
          "data": {
            "text/plain": [
              "1.0481086196496978"
            ]
          },
          "metadata": {},
          "execution_count": 20
        }
      ],
      "source": [
        "di = (data_filt/100 * taxa_emissão)+1\n",
        "di_per = di.product()\n",
        "di_per"
      ]
    },
    {
      "cell_type": "code",
      "execution_count": null,
      "metadata": {
        "colab": {
          "base_uri": "https://localhost:8080/"
        },
        "id": "uJDsPoK8ca73",
        "outputId": "ebce697c-b6fd-453f-8551-70e35bc0632b"
      },
      "outputs": [
        {
          "output_type": "execute_result",
          "data": {
            "text/plain": [
              "524054.3098248489"
            ]
          },
          "metadata": {},
          "execution_count": 21
        }
      ],
      "source": [
        "pu_par = di_per*PU_inicial\n",
        "pu_par"
      ]
    },
    {
      "cell_type": "code",
      "execution_count": null,
      "metadata": {
        "id": "_eZ4GCnG28SM"
      },
      "outputs": [],
      "source": [
        "df_eventos.loc[0,'cupom'] = pu_par*((df_eventos.loc[0,'fator'])-1)+(pu_par-PU_inicial)\n",
        "df_eventos['desconto'] = ((((1+df_eventos['di_dia'])**(1/252))-1)*(tx_neg)+1)**df_eventos['num_dias_uteis']\n",
        "df_eventos['pu'] = (df_eventos['cupom']+df_eventos['amortização'])/df_eventos['desconto']\n"
      ]
    },
    {
      "cell_type": "code",
      "source": [
        "pu_final = df_eventos['pu'].sum()\n",
        "pu_final"
      ],
      "metadata": {
        "colab": {
          "base_uri": "https://localhost:8080/"
        },
        "id": "fx0qJ0wNELJV",
        "outputId": "ee5c68d6-85e4-4dd3-a029-c8364e0dabac"
      },
      "execution_count": null,
      "outputs": [
        {
          "output_type": "execute_result",
          "data": {
            "text/plain": [
              "531930.097531073"
            ]
          },
          "metadata": {},
          "execution_count": 23
        }
      ]
    },
    {
      "cell_type": "code",
      "execution_count": null,
      "metadata": {
        "colab": {
          "base_uri": "https://localhost:8080/"
        },
        "id": "barzwocIKJjl",
        "outputId": "12c43eed-a080-40ed-e46a-35565088e70a"
      },
      "outputs": [
        {
          "name": "stdout",
          "output_type": "stream",
          "text": [
            "qual a quantidade?7\n"
          ]
        }
      ],
      "source": [
        "quantidade = float(input('qual a quantidade?'))"
      ]
    },
    {
      "cell_type": "code",
      "execution_count": null,
      "metadata": {
        "colab": {
          "base_uri": "https://localhost:8080/"
        },
        "id": "8SDyAd-gG7v6",
        "outputId": "c2d83a43-9277-402d-a44f-9eeefa508922"
      },
      "outputs": [
        {
          "output_type": "execute_result",
          "data": {
            "text/plain": [
              "3723510.68"
            ]
          },
          "metadata": {},
          "execution_count": 25
        }
      ],
      "source": [
        "financeiro = round(pu_final*quantidade,2)\n",
        "financeiro"
      ]
    },
    {
      "cell_type": "code",
      "execution_count": null,
      "metadata": {
        "colab": {
          "base_uri": "https://localhost:8080/",
          "height": 35
        },
        "id": "Xk3UgXghJnmz",
        "outputId": "17539323-2a23-4462-bf91-b8168945cadb"
      },
      "outputs": [
        {
          "output_type": "execute_result",
          "data": {
            "text/plain": [
              "'$3,723,510.68'"
            ],
            "application/vnd.google.colaboratory.intrinsic+json": {
              "type": "string"
            }
          },
          "metadata": {},
          "execution_count": 26
        }
      ],
      "source": [
        "import locale\n",
        "\n",
        "# Configuração da localidade para o formato financeiro\n",
        "locale.setlocale(locale.LC_ALL, '')\n",
        "\n",
        "# Valor em formato numpy.float64\n",
        "valor_float64 = np.float64(financeiro)\n",
        "\n",
        "# Converte para uma string no formato financeiro\n",
        "valor_formatado = locale.currency(valor_float64, grouping=True)\n",
        "\n",
        "valor_formatado"
      ]
    }
  ],
  "metadata": {
    "colab": {
      "provenance": [],
      "authorship_tag": "ABX9TyNe0SzQOjCwhnrKWe0AMqTd",
      "include_colab_link": true
    },
    "kernelspec": {
      "display_name": "Python 3",
      "name": "python3"
    },
    "language_info": {
      "name": "python"
    }
  },
  "nbformat": 4,
  "nbformat_minor": 0
}